{
 "cells": [
  {
   "cell_type": "markdown",
   "metadata": {},
   "source": [
    "### Student Information\n",
    "Name: 林宜靜\n",
    "\n",
    "Student ID: 112034546\n",
    "\n",
    "GitHub ID: SereneL\n",
    "\n",
    "Kaggle name: moominnimoom\n",
    "\n",
    "Kaggle private scoreboard snapshot:\n",
    "\n",
    "[Snapshot](img/pic0.png)"
   ]
  },
  {
   "cell_type": "markdown",
   "metadata": {},
   "source": [
    "---"
   ]
  },
  {
   "cell_type": "markdown",
   "metadata": {},
   "source": [
    "### Instructions"
   ]
  },
  {
   "cell_type": "markdown",
   "metadata": {},
   "source": [
    "1. First: __This part is worth 30% of your grade.__ Do the **take home** exercises in the DM2023-Lab2-master. You may need to copy some cells from the Lab notebook to this notebook. \n",
    "\n",
    "\n",
    "2. Second: __This part is worth 30% of your grade.__ Participate in the in-class [Kaggle Competition](https://www.kaggle.com/t/09b1d0f3f8584d06848252277cb535f2) regarding Emotion Recognition on Twitter by this link https://www.kaggle.com/t/09b1d0f3f8584d06848252277cb535f2. The scoring will be given according to your place in the Private Leaderboard ranking: \n",
    "    - **Bottom 40%**: Get 20% of the 30% available for this section.\n",
    "\n",
    "    - **Top 41% - 100%**: Get (60-x)/6 + 20 points, where x is your ranking in the leaderboard (ie. If you rank 3rd your score will be (60-3)/6 + 20 = 29.5% out of 30%)   \n",
    "    Submit your last submission __BEFORE the deadline (Dec. 27th 11:59 pm, Wednesday)_. Make sure to take a screenshot of your position at the end of the competition and store it as '''pic0.png''' under the **img** folder of this repository and rerun the cell **Student Information**.\n",
    "    \n",
    "\n",
    "3. Third: __This part is worth 30% of your grade.__ A report of your work developping the model for the competition (You can use code and comment it). This report should include what your preprocessing steps, the feature engineering steps and an explanation of your model. You can also mention different things you tried and insights you gained. \n",
    "\n",
    "\n",
    "4. Fourth: __This part is worth 10% of your grade.__ It's hard for us to follow if your code is messy :'(, so please **tidy up your notebook** and **add minimal comments where needed**.\n",
    "\n",
    "\n",
    "Upload your files to your repository then submit the link to it on the corresponding e-learn assignment.\n",
    "\n",
    "Make sure to commit and save your changes to your repository __BEFORE the deadline (Dec. 31th 11:59 pm, Sunday)__. "
   ]
  },
  {
   "cell_type": "code",
   "execution_count": 1,
   "metadata": {
    "ExecuteTime": {
     "end_time": "2023-12-29T06:50:35.491588Z",
     "start_time": "2023-12-29T06:50:35.488918Z"
    }
   },
   "outputs": [],
   "source": [
    "### Begin Assignment Here"
   ]
  },
  {
   "cell_type": "markdown",
   "metadata": {},
   "source": [
    "### Take Home Exercises in DM2023-Lab2-master"
   ]
  },
  {
   "cell_type": "markdown",
   "metadata": {},
   "source": [
    "#### Load data"
   ]
  },
  {
   "cell_type": "code",
   "execution_count": 2,
   "metadata": {
    "ExecuteTime": {
     "end_time": "2023-12-29T06:50:51.198337Z",
     "start_time": "2023-12-29T06:50:35.493585Z"
    }
   },
   "outputs": [
    {
     "name": "stdout",
     "output_type": "stream",
     "text": [
      "WARNING:tensorflow:From C:\\Users\\908\\anaconda3\\Lib\\site-packages\\keras\\src\\losses.py:2976: The name tf.losses.sparse_softmax_cross_entropy is deprecated. Please use tf.compat.v1.losses.sparse_softmax_cross_entropy instead.\n",
      "\n"
     ]
    }
   ],
   "source": [
    "import pandas as pd\n",
    "import matplotlib.pyplot as plt\n",
    "import seaborn as sns\n",
    "import numpy as np\n",
    "import json\n",
    "import itertools\n",
    "\n",
    "from sklearn.feature_extraction.text import CountVectorizer, TfidfVectorizer\n",
    "\n",
    "from sklearn.metrics import accuracy_score, classification_report, confusion_matrix\n",
    "\n",
    "from sklearn.tree import DecisionTreeClassifier\n",
    "from sklearn.naive_bayes import MultinomialNB\n",
    "\n",
    "from sklearn.preprocessing import LabelEncoder\n",
    "import keras\n",
    "from keras.models import Model\n",
    "from keras.layers import Input, Dense\n",
    "from keras.layers import ReLU, Softmax\n",
    "from keras.callbacks import CSVLogger\n",
    "\n",
    "import nltk\n",
    "import gensim\n",
    "from gensim.models import Word2Vec, KeyedVectors\n",
    "import gensim.downloader as api\n",
    "\n",
    "from sklearn.cluster import KMeans\n",
    "\n",
    "from sklearn.manifold import TSNE\n",
    "\n",
    "## ignore warnings\n",
    "import warnings\n",
    "warnings.filterwarnings('ignore')"
   ]
  },
  {
   "cell_type": "code",
   "execution_count": 3,
   "metadata": {
    "ExecuteTime": {
     "end_time": "2023-12-29T06:50:51.333013Z",
     "start_time": "2023-12-29T06:50:51.198337Z"
    },
    "code_folding": []
   },
   "outputs": [
    {
     "data": {
      "text/html": [
       "<div>\n",
       "<style scoped>\n",
       "    .dataframe tbody tr th:only-of-type {\n",
       "        vertical-align: middle;\n",
       "    }\n",
       "\n",
       "    .dataframe tbody tr th {\n",
       "        vertical-align: top;\n",
       "    }\n",
       "\n",
       "    .dataframe thead th {\n",
       "        text-align: right;\n",
       "    }\n",
       "</style>\n",
       "<table border=\"1\" class=\"dataframe\">\n",
       "  <thead>\n",
       "    <tr style=\"text-align: right;\">\n",
       "      <th></th>\n",
       "      <th>id</th>\n",
       "      <th>text</th>\n",
       "      <th>emotion</th>\n",
       "      <th>intensity</th>\n",
       "    </tr>\n",
       "  </thead>\n",
       "  <tbody>\n",
       "    <tr>\n",
       "      <th>0</th>\n",
       "      <td>10000</td>\n",
       "      <td>How the fu*k! Who the heck! moved my fridge!.....</td>\n",
       "      <td>anger</td>\n",
       "      <td>0.938</td>\n",
       "    </tr>\n",
       "    <tr>\n",
       "      <th>1</th>\n",
       "      <td>10001</td>\n",
       "      <td>So my Indian Uber driver just called someone t...</td>\n",
       "      <td>anger</td>\n",
       "      <td>0.896</td>\n",
       "    </tr>\n",
       "    <tr>\n",
       "      <th>2</th>\n",
       "      <td>10002</td>\n",
       "      <td>@DPD_UK I asked for my parcel to be delivered ...</td>\n",
       "      <td>anger</td>\n",
       "      <td>0.896</td>\n",
       "    </tr>\n",
       "    <tr>\n",
       "      <th>3</th>\n",
       "      <td>10003</td>\n",
       "      <td>so ef whichever butt wipe pulled the fire alar...</td>\n",
       "      <td>anger</td>\n",
       "      <td>0.896</td>\n",
       "    </tr>\n",
       "    <tr>\n",
       "      <th>4</th>\n",
       "      <td>10004</td>\n",
       "      <td>Don't join @BTCare they put the phone down on ...</td>\n",
       "      <td>anger</td>\n",
       "      <td>0.896</td>\n",
       "    </tr>\n",
       "  </tbody>\n",
       "</table>\n",
       "</div>"
      ],
      "text/plain": [
       "      id                                               text emotion  intensity\n",
       "0  10000  How the fu*k! Who the heck! moved my fridge!.....   anger      0.938\n",
       "1  10001  So my Indian Uber driver just called someone t...   anger      0.896\n",
       "2  10002  @DPD_UK I asked for my parcel to be delivered ...   anger      0.896\n",
       "3  10003  so ef whichever butt wipe pulled the fire alar...   anger      0.896\n",
       "4  10004  Don't join @BTCare they put the phone down on ...   anger      0.896"
      ]
     },
     "execution_count": 3,
     "metadata": {},
     "output_type": "execute_result"
    }
   ],
   "source": [
    "### training data\n",
    "anger_train = pd.read_csv(\"../data/semeval/train/anger-ratings-0to1.train.txt\",\n",
    "                         sep=\"\\t\", header=None,names=[\"id\", \"text\", \"emotion\", \"intensity\"])\n",
    "sadness_train = pd.read_csv(\"../data/semeval/train/sadness-ratings-0to1.train.txt\",\n",
    "                         sep=\"\\t\", header=None, names=[\"id\", \"text\", \"emotion\", \"intensity\"])\n",
    "fear_train = pd.read_csv(\"../data/semeval/train/fear-ratings-0to1.train.txt\",\n",
    "                         sep=\"\\t\", header=None, names=[\"id\", \"text\", \"emotion\", \"intensity\"])\n",
    "joy_train = pd.read_csv(\"../data/semeval/train/joy-ratings-0to1.train.txt\",\n",
    "                         sep=\"\\t\", header=None, names=[\"id\", \"text\", \"emotion\", \"intensity\"])\n",
    "\n",
    "# combine 4 sub-dataset\n",
    "train_df = pd.concat([anger_train, fear_train, joy_train, sadness_train], ignore_index=True)\n",
    "\n",
    "### testing data\n",
    "anger_test = pd.read_csv(\"../data/semeval/dev/anger-ratings-0to1.dev.gold.txt\",\n",
    "                         sep=\"\\t\", header=None, names=[\"id\", \"text\", \"emotion\", \"intensity\"])\n",
    "sadness_test = pd.read_csv(\"../data/semeval/dev/sadness-ratings-0to1.dev.gold.txt\",\n",
    "                         sep=\"\\t\", header=None, names=[\"id\", \"text\", \"emotion\", \"intensity\"])\n",
    "fear_test = pd.read_csv(\"../data/semeval/dev/fear-ratings-0to1.dev.gold.txt\",\n",
    "                         sep=\"\\t\", header=None, names=[\"id\", \"text\", \"emotion\", \"intensity\"])\n",
    "joy_test = pd.read_csv(\"../data/semeval/dev/joy-ratings-0to1.dev.gold.txt\",\n",
    "                         sep=\"\\t\", header=None, names=[\"id\", \"text\", \"emotion\", \"intensity\"])\n",
    "\n",
    "# combine 4 sub-dataset\n",
    "test_df = pd.concat([anger_test, fear_test, joy_test, sadness_test], ignore_index=True)\n",
    "train_df.head()"
   ]
  },
  {
   "cell_type": "code",
   "execution_count": 4,
   "metadata": {
    "ExecuteTime": {
     "end_time": "2023-12-29T06:50:51.340622Z",
     "start_time": "2023-12-29T06:50:51.333013Z"
    }
   },
   "outputs": [
    {
     "name": "stdout",
     "output_type": "stream",
     "text": [
      "Shape of Training df:  (3613, 4)\n",
      "Shape of Testing df:  (347, 4)\n"
     ]
    }
   ],
   "source": [
    "# shuffle dataset\n",
    "train_df = train_df.sample(frac=1)\n",
    "test_df = test_df.sample(frac=1)\n",
    "\n",
    "print(\"Shape of Training df: \", train_df.shape)\n",
    "print(\"Shape of Testing df: \", test_df.shape)"
   ]
  },
  {
   "cell_type": "markdown",
   "metadata": {},
   "source": [
    "##### Exercise 1"
   ]
  },
  {
   "cell_type": "code",
   "execution_count": 5,
   "metadata": {
    "ExecuteTime": {
     "end_time": "2023-12-29T06:50:51.434686Z",
     "start_time": "2023-12-29T06:50:51.340622Z"
    }
   },
   "outputs": [
    {
     "name": "stdout",
     "output_type": "stream",
     "text": [
      "Word frequency for Top 30 words in training dataset:\n",
      "['the' 'to' 'and' 'you' 'of' 'is' 'it' 'in' 'that' 'my' 'for' 'on' 'be'\n",
      " 'me' 'this' 'so' 'have' 'not' 'just' 'but' 'with' 'at' 'can' 'like' 'all'\n",
      " 'are' 'your' 'was' 'when' 'if']\n",
      "\n",
      "Word frequency for Top 30 words in testing dataset:\n",
      "['the' 'to' 'and' 'it' 'of' 'you' 'is' 'in' 'for' 'that' 'my' 'on' 'be'\n",
      " 'me' 'was' 'so' 'can' 'at' 'have' 'all' 'just' 'are' 'with' 'but' 'get'\n",
      " 'your' 'up' 'this' 'like' 'not']\n"
     ]
    }
   ],
   "source": [
    "# Answer here\n",
    "\n",
    "# train_df\n",
    "count_vect_train_df = CountVectorizer()\n",
    "train_df_counts = count_vect_train_df.fit_transform(train_df.text) #learn the vocabulary and return document-term matrix\n",
    "train_df_sum_matrix = np.asarray(train_df_counts.sum(axis=0))\n",
    "\n",
    "train_df_top_30_indices = np.argsort(train_df_sum_matrix[0])[::-1][:30]\n",
    "print('Word frequency for Top 30 words in training dataset:')\n",
    "print(count_vect_train_df.get_feature_names_out()[train_df_top_30_indices])\n",
    "\n",
    "# test_df\n",
    "count_vect_test_df = CountVectorizer()\n",
    "test_df_counts = count_vect_test_df.fit_transform(test_df.text) #learn the vocabulary and return document-term matrix\n",
    "test_df_sum_matrix = np.asarray(test_df_counts.sum(axis=0))\n",
    "\n",
    "test_df_top_30_indices = np.argsort(test_df_sum_matrix[0])[::-1][:30]\n",
    "print('\\nWord frequency for Top 30 words in testing dataset:')\n",
    "print(count_vect_test_df.get_feature_names_out()[test_df_top_30_indices])"
   ]
  },
  {
   "cell_type": "markdown",
   "metadata": {},
   "source": [
    "#### Save data"
   ]
  },
  {
   "cell_type": "code",
   "execution_count": 6,
   "metadata": {
    "ExecuteTime": {
     "end_time": "2023-12-29T06:50:51.457954Z",
     "start_time": "2023-12-29T06:50:51.436683Z"
    }
   },
   "outputs": [],
   "source": [
    "## save to pickle file\n",
    "train_df.to_pickle(\"train_df.pkl\") \n",
    "test_df.to_pickle(\"test_df.pkl\")\n",
    "\n",
    "## load a pickle file\n",
    "train_df = pd.read_pickle(\"train_df.pkl\")\n",
    "test_df = pd.read_pickle(\"test_df.pkl\")"
   ]
  },
  {
   "cell_type": "markdown",
   "metadata": {},
   "source": [
    "#### EDA"
   ]
  },
  {
   "cell_type": "code",
   "execution_count": 7,
   "metadata": {
    "ExecuteTime": {
     "end_time": "2023-12-29T06:50:51.771674Z",
     "start_time": "2023-12-29T06:50:51.457954Z"
    }
   },
   "outputs": [
    {
     "data": {
      "image/png": "[encoded data removed]",
      "text/plain": [
       "<Figure size 500x300 with 1 Axes>"
      ]
     },
     "metadata": {},
     "output_type": "display_data"
    }
   ],
   "source": [
    "# group to find distribution\n",
    "train_df.groupby(['emotion']).count()['text']\n",
    "\n",
    "%matplotlib inline\n",
    "\n",
    "# the histogram of the data\n",
    "labels = train_df['emotion'].unique()\n",
    "post_total = len(train_df)\n",
    "df1 = train_df.groupby(['emotion']).count()['text']\n",
    "df1 = df1.apply(lambda x: round(x*100/post_total,3))\n",
    "\n",
    "#plot\n",
    "fig, ax = plt.subplots(figsize=(5,3))\n",
    "plt.bar(df1.index,df1.values)\n",
    "\n",
    "#arrange\n",
    "plt.ylabel('% of instances')\n",
    "plt.xlabel('Emotion')\n",
    "plt.title('Emotion distribution')\n",
    "plt.grid(True)\n",
    "plt.show()"
   ]
  },
  {
   "cell_type": "markdown",
   "metadata": {},
   "source": [
    "#### Feature engineering"
   ]
  },
  {
   "cell_type": "code",
   "execution_count": 8,
   "metadata": {
    "ExecuteTime": {
     "end_time": "2023-12-29T06:50:51.885760Z",
     "start_time": "2023-12-29T06:50:51.772673Z"
    }
   },
   "outputs": [
    {
     "data": {
      "text/plain": [
       "<3613x10115 sparse matrix of type '<class 'numpy.int64'>'\n",
       "\twith 51467 stored elements in Compressed Sparse Row format>"
      ]
     },
     "execution_count": 8,
     "metadata": {},
     "output_type": "execute_result"
    }
   ],
   "source": [
    "# build analyzers (bag-of-words)\n",
    "BOW_vectorizer = CountVectorizer() \n",
    "\n",
    "# 1. Learn a vocabulary dictionary of all tokens in the raw documents.\n",
    "BOW_vectorizer.fit(train_df['text'])\n",
    "\n",
    "# 2. Transform documents to document-term matrix.\n",
    "train_data_BOW_features = BOW_vectorizer.transform(train_df['text'])\n",
    "test_data_BOW_features = BOW_vectorizer.transform(test_df['text'])\n",
    "\n",
    "# check the result\n",
    "train_data_BOW_features"
   ]
  },
  {
   "cell_type": "code",
   "execution_count": 9,
   "metadata": {
    "ExecuteTime": {
     "end_time": "2023-12-29T06:50:51.958551Z",
     "start_time": "2023-12-29T06:50:51.886759Z"
    }
   },
   "outputs": [
    {
     "data": {
      "text/plain": [
       "False"
      ]
     },
     "execution_count": 9,
     "metadata": {},
     "output_type": "execute_result"
    }
   ],
   "source": [
    "type(train_data_BOW_features)\n",
    "\n",
    "# add .toarray() to show\n",
    "train_data_BOW_features.toarray()\n",
    "\n",
    "# observe some feature names\n",
    "feature_names = BOW_vectorizer.get_feature_names_out()\n",
    "feature_names[100:110]\n",
    "\n",
    "\"😂\" in feature_names"
   ]
  },
  {
   "cell_type": "code",
   "execution_count": 10,
   "metadata": {
    "ExecuteTime": {
     "end_time": "2023-12-29T06:50:53.089376Z",
     "start_time": "2023-12-29T06:50:51.958551Z"
    }
   },
   "outputs": [
    {
     "name": "stdout",
     "output_type": "stream",
     "text": [
      "(3613, 500)\n"
     ]
    },
    {
     "data": {
      "text/plain": [
       "array([[1, 0, 0, ..., 0, 0, 0],\n",
       "       [0, 3, 0, ..., 0, 0, 0],\n",
       "       [0, 5, 0, ..., 0, 0, 0],\n",
       "       ...,\n",
       "       [0, 0, 0, ..., 0, 0, 0],\n",
       "       [0, 1, 0, ..., 0, 0, 0],\n",
       "       [0, 0, 0, ..., 0, 0, 0]], dtype=int64)"
      ]
     },
     "execution_count": 10,
     "metadata": {},
     "output_type": "execute_result"
    }
   ],
   "source": [
    "# build analyzers (bag-of-words)\n",
    "BOW_500 = CountVectorizer(max_features=500, tokenizer=nltk.word_tokenize) \n",
    "\n",
    "# apply analyzer to training data\n",
    "BOW_500.fit(train_df['text'])\n",
    "\n",
    "train_data_BOW_features_500 = BOW_500.transform(train_df['text'])\n",
    "\n",
    "## check dimension\n",
    "print(train_data_BOW_features_500.shape)\n",
    "\n",
    "train_data_BOW_features_500.toarray()"
   ]
  },
  {
   "cell_type": "code",
   "execution_count": 11,
   "metadata": {
    "ExecuteTime": {
     "end_time": "2023-12-29T06:50:53.098568Z",
     "start_time": "2023-12-29T06:50:53.092367Z"
    }
   },
   "outputs": [
    {
     "name": "stdout",
     "output_type": "stream",
     "text": [
      "['change' 'cheer' 'cheerful' 'cheerfully' 'cheering' 'cheery' 'come'\n",
      " 'comes' 'could' 'country']\n"
     ]
    },
    {
     "data": {
      "text/plain": [
       "True"
      ]
     },
     "execution_count": 11,
     "metadata": {},
     "output_type": "execute_result"
    }
   ],
   "source": [
    "# observe some feature names\n",
    "feature_names_500 = BOW_500.get_feature_names_out()\n",
    "print(feature_names_500[100:110])\n",
    "\n",
    "\"😂\" in feature_names_500"
   ]
  },
  {
   "cell_type": "markdown",
   "metadata": {},
   "source": [
    "##### Exercise 2"
   ]
  },
  {
   "cell_type": "code",
   "execution_count": 12,
   "metadata": {
    "ExecuteTime": {
     "end_time": "2023-12-29T06:50:53.183281Z",
     "start_time": "2023-12-29T06:50:53.100560Z"
    }
   },
   "outputs": [
    {
     "data": {
      "text/plain": [
       "array(['bitter', 'black', 'blacks', 'blame', 'blessed', 'blood', 'bloody',\n",
       "       'blues', 'body', 'boiling'], dtype=object)"
      ]
     },
     "execution_count": 12,
     "metadata": {},
     "output_type": "execute_result"
    }
   ],
   "source": [
    "# Answer here\n",
    "tfidf_1000 = TfidfVectorizer(max_features=1000)\n",
    "train_data_tfidf_features_1000 = tfidf_1000.fit_transform(train_df['text'])\n",
    "feature_names_1000 = tfidf_1000.get_feature_names_out()\n",
    "feature_names_1000[100:110]"
   ]
  },
  {
   "cell_type": "markdown",
   "metadata": {},
   "source": [
    "---"
   ]
  },
  {
   "cell_type": "markdown",
   "metadata": {},
   "source": [
    "#### Model"
   ]
  },
  {
   "cell_type": "code",
   "execution_count": 13,
   "metadata": {
    "ExecuteTime": {
     "end_time": "2023-12-29T06:50:53.192105Z",
     "start_time": "2023-12-29T06:50:53.184281Z"
    }
   },
   "outputs": [],
   "source": [
    "def plot_confusion_matrix(cm, classes, title='Confusion matrix',\n",
    "                          cmap=sns.cubehelix_palette(as_cmap=True)):\n",
    "    \"\"\"\n",
    "    This function is modified from: \n",
    "    http://scikit-learn.org/stable/auto_examples/model_selection/plot_confusion_matrix.html\n",
    "    \"\"\"\n",
    "    classes.sort()\n",
    "    tick_marks = np.arange(len(classes))    \n",
    "    \n",
    "    fig, ax = plt.subplots(figsize=(5,5))\n",
    "    im = ax.imshow(cm, interpolation='nearest', cmap=cmap)\n",
    "    ax.figure.colorbar(im, ax=ax)\n",
    "    ax.set(xticks=np.arange(cm.shape[1]),\n",
    "           yticks=np.arange(cm.shape[0]),\n",
    "           xticklabels = classes,\n",
    "           yticklabels = classes,\n",
    "           title = title,\n",
    "           xlabel = 'Predicted label',\n",
    "           ylabel = 'True label')\n",
    "\n",
    "    fmt = 'd'\n",
    "    thresh = cm.max() / 2.\n",
    "    for i, j in itertools.product(range(cm.shape[0]), range(cm.shape[1])):\n",
    "        plt.text(j, i, format(cm[i, j], fmt), horizontalalignment=\"center\", color=\"white\" if cm[i, j] > thresh else \"black\")\n",
    "    ylim_top = len(classes) - 0.5\n",
    "    plt.ylim([ylim_top, -.5])\n",
    "    plt.tight_layout()\n",
    "    plt.show()"
   ]
  },
  {
   "cell_type": "code",
   "execution_count": 14,
   "metadata": {
    "ExecuteTime": {
     "end_time": "2023-12-29T06:50:53.927518Z",
     "start_time": "2023-12-29T06:50:53.193100Z"
    }
   },
   "outputs": [
    {
     "name": "stdout",
     "output_type": "stream",
     "text": [
      "X_train.shape:  (3613, 500)\n",
      "y_train.shape:  (3613,)\n",
      "X_test.shape:  (347, 500)\n",
      "y_test.shape:  (347,)\n"
     ]
    }
   ],
   "source": [
    "# for a classificaiton problem, you need to provide both training & testing data\n",
    "X_train = BOW_500.transform(train_df['text'])\n",
    "y_train = train_df['emotion']\n",
    "\n",
    "X_test = BOW_500.transform(test_df['text'])\n",
    "y_test = test_df['emotion']\n",
    "\n",
    "## take a look at data dimension is a good habit  :)\n",
    "print('X_train.shape: ', X_train.shape)\n",
    "print('y_train.shape: ', y_train.shape)\n",
    "print('X_test.shape: ', X_test.shape)\n",
    "print('y_test.shape: ', y_test.shape)"
   ]
  },
  {
   "cell_type": "code",
   "execution_count": 15,
   "metadata": {
    "ExecuteTime": {
     "end_time": "2023-12-29T06:50:54.354083Z",
     "start_time": "2023-12-29T06:50:53.928525Z"
    }
   },
   "outputs": [
    {
     "name": "stdout",
     "output_type": "stream",
     "text": [
      "training accuracy: 0.99\n",
      "testing accuracy: 0.68\n",
      "              precision    recall  f1-score   support\n",
      "\n",
      "       anger       0.66      0.68      0.67        84\n",
      "        fear       0.66      0.69      0.67       110\n",
      "         joy       0.72      0.71      0.71        79\n",
      "     sadness       0.70      0.64      0.67        74\n",
      "\n",
      "    accuracy                           0.68       347\n",
      "   macro avg       0.68      0.68      0.68       347\n",
      "weighted avg       0.68      0.68      0.68       347\n",
      "\n"
     ]
    },
    {
     "data": {
      "image/png": "[encoded data removed]",
      "text/plain": [
       "<Figure size 500x500 with 2 Axes>"
      ]
     },
     "metadata": {},
     "output_type": "display_data"
    }
   ],
   "source": [
    "## build DecisionTree model\n",
    "DT_model = DecisionTreeClassifier(random_state=1)\n",
    "\n",
    "## training!\n",
    "DT_model = DT_model.fit(X_train, y_train)\n",
    "\n",
    "## predict!\n",
    "y_train_pred = DT_model.predict(X_train)\n",
    "y_test_pred = DT_model.predict(X_test)\n",
    "\n",
    "## so we get the pred result\n",
    "acc_train = accuracy_score(y_true=y_train, y_pred=y_train_pred)\n",
    "acc_test = accuracy_score(y_true=y_test, y_pred=y_test_pred)\n",
    "\n",
    "print('training accuracy: {}'.format(round(acc_train, 2)))\n",
    "print('testing accuracy: {}'.format(round(acc_test, 2)))\n",
    "\n",
    "print(classification_report(y_true=y_test, y_pred=y_test_pred))\n",
    "\n",
    "cm = confusion_matrix(y_true=y_test, y_pred=y_test_pred) \n",
    "\n",
    "# plot your confusion matrix\n",
    "my_tags = ['anger', 'fear', 'joy', 'sadness']\n",
    "plot_confusion_matrix(cm, classes=my_tags, title='Confusion matrix')"
   ]
  },
  {
   "cell_type": "markdown",
   "metadata": {},
   "source": [
    "##### Exercise 3"
   ]
  },
  {
   "cell_type": "code",
   "execution_count": 16,
   "metadata": {
    "ExecuteTime": {
     "end_time": "2023-12-29T06:50:54.358238Z",
     "start_time": "2023-12-29T06:50:54.355598Z"
    }
   },
   "outputs": [],
   "source": [
    "# Answer here\n",
    "# To most of the data, the classifier predicted them well(True Positive).\n",
    "# Also found that when labels are anger/fear, the classifier tend to misclassify them to fear/anger."
   ]
  },
  {
   "cell_type": "markdown",
   "metadata": {},
   "source": [
    "##### Exercise 4"
   ]
  },
  {
   "cell_type": "code",
   "execution_count": 17,
   "metadata": {
    "ExecuteTime": {
     "end_time": "2023-12-29T06:50:54.573972Z",
     "start_time": "2023-12-29T06:50:54.359231Z"
    }
   },
   "outputs": [
    {
     "name": "stdout",
     "output_type": "stream",
     "text": [
      "training accuracy: 0.79\n",
      "testing accuracy: 0.7\n"
     ]
    },
    {
     "data": {
      "image/png": "[encoded data removed]",
      "text/plain": [
       "<Figure size 500x500 with 2 Axes>"
      ]
     },
     "metadata": {},
     "output_type": "display_data"
    }
   ],
   "source": [
    "# Answer here\n",
    "nb_model = MultinomialNB(force_alpha=True)\n",
    "nb_model = nb_model.fit(X_train, y_train)\n",
    "\n",
    "y_train_pred = nb_model.predict(X_train)\n",
    "y_test_pred = nb_model.predict(X_test)\n",
    "\n",
    "acc_train = accuracy_score(y_true=y_train, y_pred=y_train_pred)\n",
    "acc_test = accuracy_score(y_true=y_test, y_pred=y_test_pred)\n",
    "\n",
    "print('training accuracy: {}'.format(round(acc_train, 2)))\n",
    "print('testing accuracy: {}'.format(round(acc_test, 2)))\n",
    "\n",
    "cm = confusion_matrix(y_true=y_test, y_pred=y_test_pred) \n",
    "my_tags = ['anger', 'fear', 'joy', 'sadness']\n",
    "plot_confusion_matrix(cm, classes=my_tags, title='Confusion matrix')"
   ]
  },
  {
   "cell_type": "markdown",
   "metadata": {},
   "source": [
    "##### Exercise 5"
   ]
  },
  {
   "cell_type": "code",
   "execution_count": 18,
   "metadata": {
    "ExecuteTime": {
     "end_time": "2023-12-29T06:50:54.579258Z",
     "start_time": "2023-12-29T06:50:54.575969Z"
    }
   },
   "outputs": [
    {
     "data": {
      "text/plain": [
       "'\\nAlthough the accuracy of training data from Naive Bayes model is worse than Decision Tree, \\nthe difference in the accuracy of training and testing data from Naive Bayes is much lower than in Decision Tree.\\nIt may shows that the model is less overfitting in Naive Bayes.\\n'"
      ]
     },
     "execution_count": 18,
     "metadata": {},
     "output_type": "execute_result"
    }
   ],
   "source": [
    "# Answer here\n",
    "\"\"\"\n",
    "Although the accuracy of training data from Naive Bayes model is worse than Decision Tree, \n",
    "the difference in the accuracy of training and testing data from Naive Bayes is much lower than in Decision Tree.\n",
    "It may shows that the model is less overfitting in Naive Bayes.\n",
    "\"\"\""
   ]
  },
  {
   "cell_type": "markdown",
   "metadata": {},
   "source": [
    "---"
   ]
  },
  {
   "cell_type": "markdown",
   "metadata": {},
   "source": [
    "#### Deep learning"
   ]
  },
  {
   "cell_type": "code",
   "execution_count": 19,
   "metadata": {
    "ExecuteTime": {
     "end_time": "2023-12-29T06:50:55.215737Z",
     "start_time": "2023-12-29T06:50:54.580871Z"
    }
   },
   "outputs": [
    {
     "name": "stdout",
     "output_type": "stream",
     "text": [
      "X_train.shape:  (3613, 500)\n",
      "y_train.shape:  (3613,)\n",
      "X_test.shape:  (347, 500)\n",
      "y_test.shape:  (347,)\n"
     ]
    }
   ],
   "source": [
    "# standardize name (X, y) \n",
    "X_train = BOW_500.transform(train_df['text'])\n",
    "y_train = train_df['emotion']\n",
    "\n",
    "X_test = BOW_500.transform(test_df['text'])\n",
    "y_test = test_df['emotion']\n",
    "\n",
    "## check dimension is a good habbit \n",
    "print('X_train.shape: ', X_train.shape)\n",
    "print('y_train.shape: ', y_train.shape)\n",
    "print('X_test.shape: ', X_test.shape)\n",
    "print('y_test.shape: ', y_test.shape)"
   ]
  },
  {
   "cell_type": "code",
   "execution_count": 20,
   "metadata": {
    "ExecuteTime": {
     "end_time": "2023-12-29T06:50:55.224558Z",
     "start_time": "2023-12-29T06:50:55.216736Z"
    }
   },
   "outputs": [
    {
     "name": "stdout",
     "output_type": "stream",
     "text": [
      "check label:  ['anger' 'fear' 'joy' 'sadness']\n",
      "\n",
      "## Before convert\n",
      "y_train[0:4]:\n",
      " 483     anger\n",
      "22      anger\n",
      "2375      joy\n",
      "73      anger\n",
      "Name: emotion, dtype: object\n",
      "\n",
      "y_train.shape:  (3613,)\n",
      "y_test.shape:  (347,)\n",
      "\n",
      "\n",
      "## After convert\n",
      "y_train[0:4]:\n",
      " [[1. 0. 0. 0.]\n",
      " [1. 0. 0. 0.]\n",
      " [0. 0. 1. 0.]\n",
      " [1. 0. 0. 0.]]\n",
      "\n",
      "y_train.shape:  (3613, 4)\n",
      "y_test.shape:  (347, 4)\n"
     ]
    }
   ],
   "source": [
    "label_encoder = LabelEncoder()\n",
    "label_encoder.fit(y_train)\n",
    "print('check label: ', label_encoder.classes_)\n",
    "print('\\n## Before convert')\n",
    "print('y_train[0:4]:\\n', y_train[0:4])\n",
    "print('\\ny_train.shape: ', y_train.shape)\n",
    "print('y_test.shape: ', y_test.shape)\n",
    "\n",
    "def label_encode(le, labels):\n",
    "    enc = le.transform(labels)\n",
    "    return keras.utils.to_categorical(enc)\n",
    "\n",
    "def label_decode(le, one_hot_label):\n",
    "    dec = np.argmax(one_hot_label, axis=1)\n",
    "    return le.inverse_transform(dec)\n",
    "\n",
    "y_train = label_encode(label_encoder, y_train)\n",
    "y_test = label_encode(label_encoder, y_test)\n",
    "\n",
    "print('\\n\\n## After convert')\n",
    "print('y_train[0:4]:\\n', y_train[0:4])\n",
    "print('\\ny_train.shape: ', y_train.shape)\n",
    "print('y_test.shape: ', y_test.shape)"
   ]
  },
  {
   "cell_type": "code",
   "execution_count": 21,
   "metadata": {
    "ExecuteTime": {
     "end_time": "2023-12-29T06:50:55.236769Z",
     "start_time": "2023-12-29T06:50:55.225558Z"
    }
   },
   "outputs": [
    {
     "name": "stdout",
     "output_type": "stream",
     "text": [
      "input_shape:  500\n",
      "output_shape:  4\n"
     ]
    }
   ],
   "source": [
    "# I/O check\n",
    "input_shape = X_train.shape[1]\n",
    "print('input_shape: ', input_shape)\n",
    "\n",
    "output_shape = len(label_encoder.classes_)\n",
    "print('output_shape: ', output_shape)"
   ]
  },
  {
   "cell_type": "code",
   "execution_count": 22,
   "metadata": {
    "ExecuteTime": {
     "end_time": "2023-12-29T06:50:55.858659Z",
     "start_time": "2023-12-29T06:50:55.239781Z"
    }
   },
   "outputs": [
    {
     "name": "stdout",
     "output_type": "stream",
     "text": [
      "WARNING:tensorflow:From C:\\Users\\908\\anaconda3\\Lib\\site-packages\\keras\\src\\backend.py:1398: The name tf.executing_eagerly_outside_functions is deprecated. Please use tf.compat.v1.executing_eagerly_outside_functions instead.\n",
      "\n",
      "WARNING:tensorflow:From C:\\Users\\908\\anaconda3\\Lib\\site-packages\\keras\\src\\optimizers\\__init__.py:309: The name tf.train.Optimizer is deprecated. Please use tf.compat.v1.train.Optimizer instead.\n",
      "\n",
      "Model: \"model\"\n",
      "_________________________________________________________________\n",
      " Layer (type)                Output Shape              Param #   \n",
      "=================================================================\n",
      " input_1 (InputLayer)        [(None, 500)]             0         \n",
      "                                                                 \n",
      " dense (Dense)               (None, 64)                32064     \n",
      "                                                                 \n",
      " re_lu (ReLU)                (None, 64)                0         \n",
      "                                                                 \n",
      " dense_1 (Dense)             (None, 64)                4160      \n",
      "                                                                 \n",
      " re_lu_1 (ReLU)              (None, 64)                0         \n",
      "                                                                 \n",
      " dense_2 (Dense)             (None, 4)                 260       \n",
      "                                                                 \n",
      " softmax (Softmax)           (None, 4)                 0         \n",
      "                                                                 \n",
      "=================================================================\n",
      "Total params: 36484 (142.52 KB)\n",
      "Trainable params: 36484 (142.52 KB)\n",
      "Non-trainable params: 0 (0.00 Byte)\n",
      "_________________________________________________________________\n"
     ]
    }
   ],
   "source": [
    "# input layer\n",
    "model_input = Input(shape=(input_shape, ))  # 500\n",
    "X = model_input\n",
    "\n",
    "# 1st hidden layer\n",
    "X_W1 = Dense(units=64)(X)  # 64\n",
    "H1 = ReLU()(X_W1)\n",
    "\n",
    "# 2nd hidden layer\n",
    "H1_W2 = Dense(units=64)(H1)  # 64\n",
    "H2 = ReLU()(H1_W2)\n",
    "\n",
    "# output layer\n",
    "H2_W3 = Dense(units=output_shape)(H2)  # 4\n",
    "H3 = Softmax()(H2_W3)\n",
    "\n",
    "model_output = H3\n",
    "\n",
    "# create model\n",
    "model = Model(inputs=[model_input], outputs=[model_output])\n",
    "\n",
    "# loss function & optimizer\n",
    "model.compile(optimizer='adam',\n",
    "              loss='categorical_crossentropy',\n",
    "              metrics=['accuracy'])\n",
    "\n",
    "# show model construction\n",
    "model.summary()"
   ]
  },
  {
   "cell_type": "code",
   "execution_count": 23,
   "metadata": {
    "ExecuteTime": {
     "end_time": "2023-12-29T06:51:03.392973Z",
     "start_time": "2023-12-29T06:50:55.859659Z"
    }
   },
   "outputs": [
    {
     "name": "stdout",
     "output_type": "stream",
     "text": [
      "Epoch 1/25\n",
      "WARNING:tensorflow:From C:\\Users\\908\\anaconda3\\Lib\\site-packages\\keras\\src\\utils\\tf_utils.py:492: The name tf.ragged.RaggedTensorValue is deprecated. Please use tf.compat.v1.ragged.RaggedTensorValue instead.\n",
      "\n",
      "WARNING:tensorflow:From C:\\Users\\908\\anaconda3\\Lib\\site-packages\\keras\\src\\engine\\base_layer_utils.py:384: The name tf.executing_eagerly_outside_functions is deprecated. Please use tf.compat.v1.executing_eagerly_outside_functions instead.\n",
      "\n",
      "113/113 [==============================] - 2s 4ms/step - loss: 1.3195 - accuracy: 0.3786 - val_loss: 1.2661 - val_accuracy: 0.4582\n",
      "Epoch 2/25\n",
      "113/113 [==============================] - 0s 2ms/step - loss: 0.9713 - accuracy: 0.6554 - val_loss: 0.9107 - val_accuracy: 0.6657\n",
      "Epoch 3/25\n",
      "113/113 [==============================] - 0s 2ms/step - loss: 0.5820 - accuracy: 0.7988 - val_loss: 0.7613 - val_accuracy: 0.7003\n",
      "Epoch 4/25\n",
      "113/113 [==============================] - 0s 2ms/step - loss: 0.4142 - accuracy: 0.8503 - val_loss: 0.7508 - val_accuracy: 0.7118\n",
      "Epoch 5/25\n",
      "113/113 [==============================] - 0s 2ms/step - loss: 0.3362 - accuracy: 0.8754 - val_loss: 0.7615 - val_accuracy: 0.7061\n",
      "Epoch 6/25\n",
      "113/113 [==============================] - 0s 2ms/step - loss: 0.2680 - accuracy: 0.9059 - val_loss: 0.8269 - val_accuracy: 0.6830\n",
      "Epoch 7/25\n",
      "113/113 [==============================] - 0s 2ms/step - loss: 0.2181 - accuracy: 0.9286 - val_loss: 0.8964 - val_accuracy: 0.7147\n",
      "Epoch 8/25\n",
      "113/113 [==============================] - 0s 2ms/step - loss: 0.1877 - accuracy: 0.9419 - val_loss: 0.9203 - val_accuracy: 0.6916\n",
      "Epoch 9/25\n",
      "113/113 [==============================] - 0s 2ms/step - loss: 0.1617 - accuracy: 0.9502 - val_loss: 1.0082 - val_accuracy: 0.6772\n",
      "Epoch 10/25\n",
      "113/113 [==============================] - 0s 2ms/step - loss: 0.1336 - accuracy: 0.9601 - val_loss: 1.0842 - val_accuracy: 0.6686\n",
      "Epoch 11/25\n",
      "113/113 [==============================] - 0s 2ms/step - loss: 0.1221 - accuracy: 0.9651 - val_loss: 1.1026 - val_accuracy: 0.6715\n",
      "Epoch 12/25\n",
      "113/113 [==============================] - 0s 2ms/step - loss: 0.1084 - accuracy: 0.9682 - val_loss: 1.1683 - val_accuracy: 0.6715\n",
      "Epoch 13/25\n",
      "113/113 [==============================] - 0s 2ms/step - loss: 0.1046 - accuracy: 0.9701 - val_loss: 1.2460 - val_accuracy: 0.6628\n",
      "Epoch 14/25\n",
      "113/113 [==============================] - 0s 2ms/step - loss: 0.0990 - accuracy: 0.9743 - val_loss: 1.2490 - val_accuracy: 0.6715\n",
      "Epoch 15/25\n",
      "113/113 [==============================] - 0s 2ms/step - loss: 0.0829 - accuracy: 0.9743 - val_loss: 1.3172 - val_accuracy: 0.6744\n",
      "Epoch 16/25\n",
      "113/113 [==============================] - 0s 2ms/step - loss: 0.0818 - accuracy: 0.9740 - val_loss: 1.3284 - val_accuracy: 0.6715\n",
      "Epoch 17/25\n",
      "113/113 [==============================] - 0s 2ms/step - loss: 0.0801 - accuracy: 0.9743 - val_loss: 1.3618 - val_accuracy: 0.6628\n",
      "Epoch 18/25\n",
      "113/113 [==============================] - 0s 2ms/step - loss: 0.0757 - accuracy: 0.9781 - val_loss: 1.3931 - val_accuracy: 0.6686\n",
      "Epoch 19/25\n",
      "113/113 [==============================] - 0s 2ms/step - loss: 0.0740 - accuracy: 0.9754 - val_loss: 1.3991 - val_accuracy: 0.6628\n",
      "Epoch 20/25\n",
      "113/113 [==============================] - 0s 2ms/step - loss: 0.0758 - accuracy: 0.9781 - val_loss: 1.4220 - val_accuracy: 0.6744\n",
      "Epoch 21/25\n",
      "113/113 [==============================] - 0s 2ms/step - loss: 0.0704 - accuracy: 0.9754 - val_loss: 1.4570 - val_accuracy: 0.6744\n",
      "Epoch 22/25\n",
      "113/113 [==============================] - 0s 2ms/step - loss: 0.0663 - accuracy: 0.9776 - val_loss: 1.5312 - val_accuracy: 0.6657\n",
      "Epoch 23/25\n",
      "113/113 [==============================] - 0s 3ms/step - loss: 0.0634 - accuracy: 0.9770 - val_loss: 1.5000 - val_accuracy: 0.6628\n",
      "Epoch 24/25\n",
      "113/113 [==============================] - 0s 2ms/step - loss: 0.0596 - accuracy: 0.9790 - val_loss: 1.5238 - val_accuracy: 0.6513\n",
      "Epoch 25/25\n",
      "113/113 [==============================] - 0s 2ms/step - loss: 0.0599 - accuracy: 0.9792 - val_loss: 1.5577 - val_accuracy: 0.6599\n",
      "training finish\n"
     ]
    }
   ],
   "source": [
    "csv_logger = CSVLogger('logs/training_log.csv')\n",
    "\n",
    "# training setting\n",
    "epochs = 25\n",
    "batch_size = 32\n",
    "\n",
    "# training!\n",
    "history = model.fit(X_train, y_train, \n",
    "                    epochs=epochs, \n",
    "                    batch_size=batch_size, \n",
    "                    callbacks=[csv_logger],\n",
    "                    validation_data = (X_test, y_test))\n",
    "print('training finish')"
   ]
  },
  {
   "cell_type": "code",
   "execution_count": 24,
   "metadata": {
    "ExecuteTime": {
     "end_time": "2023-12-29T06:51:03.526842Z",
     "start_time": "2023-12-29T06:51:03.394974Z"
    }
   },
   "outputs": [
    {
     "name": "stdout",
     "output_type": "stream",
     "text": [
      "3/3 [==============================] - 0s 2ms/step\n"
     ]
    },
    {
     "data": {
      "text/plain": [
       "array([[7.1415468e-04, 9.5240152e-01, 8.5965283e-03, 3.8287781e-02],\n",
       "       [1.0172867e-01, 8.7162536e-01, 1.7875623e-02, 8.7703848e-03],\n",
       "       [4.4681484e-01, 2.3793775e-01, 3.1462136e-01, 6.2604819e-04],\n",
       "       [3.3376631e-11, 1.0000000e+00, 2.2225738e-08, 3.3487684e-09],\n",
       "       [4.5157843e-03, 4.9862148e-08, 2.8366386e-04, 9.9520051e-01]],\n",
       "      dtype=float32)"
      ]
     },
     "execution_count": 24,
     "metadata": {},
     "output_type": "execute_result"
    }
   ],
   "source": [
    "## predict\n",
    "pred_result = model.predict(X_test, batch_size=128)\n",
    "pred_result[:5]"
   ]
  },
  {
   "cell_type": "code",
   "execution_count": 25,
   "metadata": {
    "ExecuteTime": {
     "end_time": "2023-12-29T06:51:03.536207Z",
     "start_time": "2023-12-29T06:51:03.528564Z"
    }
   },
   "outputs": [
    {
     "data": {
      "text/plain": [
       "array(['fear', 'fear', 'anger', 'fear', 'sadness'], dtype=object)"
      ]
     },
     "execution_count": 25,
     "metadata": {},
     "output_type": "execute_result"
    }
   ],
   "source": [
    "pred_result = label_decode(label_encoder, pred_result)\n",
    "pred_result[:5]"
   ]
  },
  {
   "cell_type": "code",
   "execution_count": 26,
   "metadata": {
    "ExecuteTime": {
     "end_time": "2023-12-29T06:51:03.544975Z",
     "start_time": "2023-12-29T06:51:03.538206Z"
    }
   },
   "outputs": [
    {
     "name": "stdout",
     "output_type": "stream",
     "text": [
      "testing accuracy: 0.66\n"
     ]
    }
   ],
   "source": [
    "print('testing accuracy: {}'.format(round(accuracy_score(label_decode(label_encoder, y_test), pred_result), 2)))"
   ]
  },
  {
   "cell_type": "code",
   "execution_count": 27,
   "metadata": {
    "ExecuteTime": {
     "end_time": "2023-12-29T06:51:03.579882Z",
     "start_time": "2023-12-29T06:51:03.546774Z"
    }
   },
   "outputs": [
    {
     "data": {
      "text/html": [
       "<div>\n",
       "<style scoped>\n",
       "    .dataframe tbody tr th:only-of-type {\n",
       "        vertical-align: middle;\n",
       "    }\n",
       "\n",
       "    .dataframe tbody tr th {\n",
       "        vertical-align: top;\n",
       "    }\n",
       "\n",
       "    .dataframe thead th {\n",
       "        text-align: right;\n",
       "    }\n",
       "</style>\n",
       "<table border=\"1\" class=\"dataframe\">\n",
       "  <thead>\n",
       "    <tr style=\"text-align: right;\">\n",
       "      <th></th>\n",
       "      <th>epoch</th>\n",
       "      <th>accuracy</th>\n",
       "      <th>loss</th>\n",
       "      <th>val_accuracy</th>\n",
       "      <th>val_loss</th>\n",
       "    </tr>\n",
       "  </thead>\n",
       "  <tbody>\n",
       "    <tr>\n",
       "      <th>0</th>\n",
       "      <td>0</td>\n",
       "      <td>0.378633</td>\n",
       "      <td>1.319494</td>\n",
       "      <td>0.458213</td>\n",
       "      <td>1.266134</td>\n",
       "    </tr>\n",
       "    <tr>\n",
       "      <th>1</th>\n",
       "      <td>1</td>\n",
       "      <td>0.655411</td>\n",
       "      <td>0.971333</td>\n",
       "      <td>0.665706</td>\n",
       "      <td>0.910709</td>\n",
       "    </tr>\n",
       "    <tr>\n",
       "      <th>2</th>\n",
       "      <td>2</td>\n",
       "      <td>0.798782</td>\n",
       "      <td>0.582005</td>\n",
       "      <td>0.700288</td>\n",
       "      <td>0.761270</td>\n",
       "    </tr>\n",
       "    <tr>\n",
       "      <th>3</th>\n",
       "      <td>3</td>\n",
       "      <td>0.850263</td>\n",
       "      <td>0.414248</td>\n",
       "      <td>0.711816</td>\n",
       "      <td>0.750820</td>\n",
       "    </tr>\n",
       "    <tr>\n",
       "      <th>4</th>\n",
       "      <td>4</td>\n",
       "      <td>0.875450</td>\n",
       "      <td>0.336217</td>\n",
       "      <td>0.706052</td>\n",
       "      <td>0.761452</td>\n",
       "    </tr>\n",
       "    <tr>\n",
       "      <th>5</th>\n",
       "      <td>5</td>\n",
       "      <td>0.905895</td>\n",
       "      <td>0.267985</td>\n",
       "      <td>0.682997</td>\n",
       "      <td>0.826938</td>\n",
       "    </tr>\n",
       "    <tr>\n",
       "      <th>6</th>\n",
       "      <td>6</td>\n",
       "      <td>0.928591</td>\n",
       "      <td>0.218072</td>\n",
       "      <td>0.714697</td>\n",
       "      <td>0.896372</td>\n",
       "    </tr>\n",
       "    <tr>\n",
       "      <th>7</th>\n",
       "      <td>7</td>\n",
       "      <td>0.941877</td>\n",
       "      <td>0.187728</td>\n",
       "      <td>0.691643</td>\n",
       "      <td>0.920293</td>\n",
       "    </tr>\n",
       "    <tr>\n",
       "      <th>8</th>\n",
       "      <td>8</td>\n",
       "      <td>0.950180</td>\n",
       "      <td>0.161672</td>\n",
       "      <td>0.677233</td>\n",
       "      <td>1.008220</td>\n",
       "    </tr>\n",
       "    <tr>\n",
       "      <th>9</th>\n",
       "      <td>9</td>\n",
       "      <td>0.960144</td>\n",
       "      <td>0.133628</td>\n",
       "      <td>0.668588</td>\n",
       "      <td>1.084167</td>\n",
       "    </tr>\n",
       "    <tr>\n",
       "      <th>10</th>\n",
       "      <td>10</td>\n",
       "      <td>0.965126</td>\n",
       "      <td>0.122112</td>\n",
       "      <td>0.671470</td>\n",
       "      <td>1.102579</td>\n",
       "    </tr>\n",
       "    <tr>\n",
       "      <th>11</th>\n",
       "      <td>11</td>\n",
       "      <td>0.968171</td>\n",
       "      <td>0.108396</td>\n",
       "      <td>0.671470</td>\n",
       "      <td>1.168297</td>\n",
       "    </tr>\n",
       "    <tr>\n",
       "      <th>12</th>\n",
       "      <td>12</td>\n",
       "      <td>0.970108</td>\n",
       "      <td>0.104592</td>\n",
       "      <td>0.662824</td>\n",
       "      <td>1.246042</td>\n",
       "    </tr>\n",
       "    <tr>\n",
       "      <th>13</th>\n",
       "      <td>13</td>\n",
       "      <td>0.974260</td>\n",
       "      <td>0.098997</td>\n",
       "      <td>0.671470</td>\n",
       "      <td>1.248957</td>\n",
       "    </tr>\n",
       "    <tr>\n",
       "      <th>14</th>\n",
       "      <td>14</td>\n",
       "      <td>0.974260</td>\n",
       "      <td>0.082862</td>\n",
       "      <td>0.674352</td>\n",
       "      <td>1.317192</td>\n",
       "    </tr>\n",
       "    <tr>\n",
       "      <th>15</th>\n",
       "      <td>15</td>\n",
       "      <td>0.973983</td>\n",
       "      <td>0.081765</td>\n",
       "      <td>0.671470</td>\n",
       "      <td>1.328381</td>\n",
       "    </tr>\n",
       "    <tr>\n",
       "      <th>16</th>\n",
       "      <td>16</td>\n",
       "      <td>0.974260</td>\n",
       "      <td>0.080074</td>\n",
       "      <td>0.662824</td>\n",
       "      <td>1.361766</td>\n",
       "    </tr>\n",
       "    <tr>\n",
       "      <th>17</th>\n",
       "      <td>17</td>\n",
       "      <td>0.978135</td>\n",
       "      <td>0.075703</td>\n",
       "      <td>0.668588</td>\n",
       "      <td>1.393131</td>\n",
       "    </tr>\n",
       "    <tr>\n",
       "      <th>18</th>\n",
       "      <td>18</td>\n",
       "      <td>0.975367</td>\n",
       "      <td>0.074014</td>\n",
       "      <td>0.662824</td>\n",
       "      <td>1.399063</td>\n",
       "    </tr>\n",
       "    <tr>\n",
       "      <th>19</th>\n",
       "      <td>19</td>\n",
       "      <td>0.978135</td>\n",
       "      <td>0.075817</td>\n",
       "      <td>0.674352</td>\n",
       "      <td>1.422025</td>\n",
       "    </tr>\n",
       "    <tr>\n",
       "      <th>20</th>\n",
       "      <td>20</td>\n",
       "      <td>0.975367</td>\n",
       "      <td>0.070363</td>\n",
       "      <td>0.674352</td>\n",
       "      <td>1.456980</td>\n",
       "    </tr>\n",
       "    <tr>\n",
       "      <th>21</th>\n",
       "      <td>21</td>\n",
       "      <td>0.977581</td>\n",
       "      <td>0.066323</td>\n",
       "      <td>0.665706</td>\n",
       "      <td>1.531242</td>\n",
       "    </tr>\n",
       "    <tr>\n",
       "      <th>22</th>\n",
       "      <td>22</td>\n",
       "      <td>0.977027</td>\n",
       "      <td>0.063368</td>\n",
       "      <td>0.662824</td>\n",
       "      <td>1.499971</td>\n",
       "    </tr>\n",
       "    <tr>\n",
       "      <th>23</th>\n",
       "      <td>23</td>\n",
       "      <td>0.978965</td>\n",
       "      <td>0.059632</td>\n",
       "      <td>0.651297</td>\n",
       "      <td>1.523816</td>\n",
       "    </tr>\n",
       "    <tr>\n",
       "      <th>24</th>\n",
       "      <td>24</td>\n",
       "      <td>0.979242</td>\n",
       "      <td>0.059908</td>\n",
       "      <td>0.659942</td>\n",
       "      <td>1.557715</td>\n",
       "    </tr>\n",
       "  </tbody>\n",
       "</table>\n",
       "</div>"
      ],
      "text/plain": [
       "    epoch  accuracy      loss  val_accuracy  val_loss\n",
       "0       0  0.378633  1.319494      0.458213  1.266134\n",
       "1       1  0.655411  0.971333      0.665706  0.910709\n",
       "2       2  0.798782  0.582005      0.700288  0.761270\n",
       "3       3  0.850263  0.414248      0.711816  0.750820\n",
       "4       4  0.875450  0.336217      0.706052  0.761452\n",
       "5       5  0.905895  0.267985      0.682997  0.826938\n",
       "6       6  0.928591  0.218072      0.714697  0.896372\n",
       "7       7  0.941877  0.187728      0.691643  0.920293\n",
       "8       8  0.950180  0.161672      0.677233  1.008220\n",
       "9       9  0.960144  0.133628      0.668588  1.084167\n",
       "10     10  0.965126  0.122112      0.671470  1.102579\n",
       "11     11  0.968171  0.108396      0.671470  1.168297\n",
       "12     12  0.970108  0.104592      0.662824  1.246042\n",
       "13     13  0.974260  0.098997      0.671470  1.248957\n",
       "14     14  0.974260  0.082862      0.674352  1.317192\n",
       "15     15  0.973983  0.081765      0.671470  1.328381\n",
       "16     16  0.974260  0.080074      0.662824  1.361766\n",
       "17     17  0.978135  0.075703      0.668588  1.393131\n",
       "18     18  0.975367  0.074014      0.662824  1.399063\n",
       "19     19  0.978135  0.075817      0.674352  1.422025\n",
       "20     20  0.975367  0.070363      0.674352  1.456980\n",
       "21     21  0.977581  0.066323      0.665706  1.531242\n",
       "22     22  0.977027  0.063368      0.662824  1.499971\n",
       "23     23  0.978965  0.059632      0.651297  1.523816\n",
       "24     24  0.979242  0.059908      0.659942  1.557715"
      ]
     },
     "execution_count": 27,
     "metadata": {},
     "output_type": "execute_result"
    }
   ],
   "source": [
    "#Let's take a look at the training log\n",
    "training_log = pd.DataFrame()\n",
    "training_log = pd.read_csv(\"logs/training_log.csv\")\n",
    "training_log"
   ]
  },
  {
   "cell_type": "markdown",
   "metadata": {},
   "source": [
    "##### Exercise 6"
   ]
  },
  {
   "cell_type": "code",
   "execution_count": 28,
   "metadata": {
    "ExecuteTime": {
     "end_time": "2023-12-29T06:51:03.899059Z",
     "start_time": "2023-12-29T06:51:03.582116Z"
    }
   },
   "outputs": [
    {
     "data": {
      "image/png": "[encoded data removed]",
      "text/plain": [
       "<Figure size 640x480 with 1 Axes>"
      ]
     },
     "metadata": {},
     "output_type": "display_data"
    },
    {
     "data": {
      "image/png": "[encoded data removed]",
      "text/plain": [
       "<Figure size 640x480 with 1 Axes>"
      ]
     },
     "metadata": {},
     "output_type": "display_data"
    },
    {
     "data": {
      "text/plain": [
       "'\\nFrom the figures below, \\nI found that the training accuracy increases while the validation accuracy remains the same, \\nand the training loss decreases while the validation loss increases,\\nwhich indicate overfitting.\\n'"
      ]
     },
     "execution_count": 28,
     "metadata": {},
     "output_type": "execute_result"
    }
   ],
   "source": [
    "# Answer here\n",
    "plt.plot(training_log['accuracy'])\n",
    "plt.plot(training_log['val_accuracy'])\n",
    "plt.title('Training Accuracy per epoch')\n",
    "plt.ylabel('Accuracy')\n",
    "plt.xlabel('Epochs')\n",
    "plt.legend(['Train accuracy', 'Val accuracy'], loc='upper right')\n",
    "plt.show()\n",
    "\n",
    "plt.plot(training_log['loss'])\n",
    "plt.plot(training_log['val_loss'])\n",
    "plt.title('Training Loss per epoch')\n",
    "plt.ylabel('Loss')\n",
    "plt.xlabel('Epochs')\n",
    "plt.legend(['Train loss', 'Val loss'], loc='upper right')\n",
    "plt.show()\n",
    "\n",
    "# Interpretation\n",
    "\n",
    "\"\"\"\n",
    "From the figures below, \n",
    "I found that the training accuracy increases while the validation accuracy remains the same, \n",
    "and the training loss decreases while the validation loss increases,\n",
    "which indicate overfitting.\n",
    "\"\"\""
   ]
  },
  {
   "cell_type": "markdown",
   "metadata": {},
   "source": [
    "#### Word2Vec"
   ]
  },
  {
   "cell_type": "code",
   "execution_count": 29,
   "metadata": {
    "ExecuteTime": {
     "end_time": "2023-12-29T06:51:04.464810Z",
     "start_time": "2023-12-29T06:51:03.906047Z"
    }
   },
   "outputs": [
    {
     "data": {
      "text/html": [
       "<div>\n",
       "<style scoped>\n",
       "    .dataframe tbody tr th:only-of-type {\n",
       "        vertical-align: middle;\n",
       "    }\n",
       "\n",
       "    .dataframe tbody tr th {\n",
       "        vertical-align: top;\n",
       "    }\n",
       "\n",
       "    .dataframe thead th {\n",
       "        text-align: right;\n",
       "    }\n",
       "</style>\n",
       "<table border=\"1\" class=\"dataframe\">\n",
       "  <thead>\n",
       "    <tr style=\"text-align: right;\">\n",
       "      <th></th>\n",
       "      <th>id</th>\n",
       "      <th>text</th>\n",
       "      <th>text_tokenized</th>\n",
       "    </tr>\n",
       "  </thead>\n",
       "  <tbody>\n",
       "    <tr>\n",
       "      <th>483</th>\n",
       "      <td>10483</td>\n",
       "      <td>Are belittling kitty straight a service? provo...</td>\n",
       "      <td>[Are, belittling, kitty, straight, a, service,...</td>\n",
       "    </tr>\n",
       "    <tr>\n",
       "      <th>22</th>\n",
       "      <td>10022</td>\n",
       "      <td>I got a NO RESPONSE again from an #irate custo...</td>\n",
       "      <td>[I, got, a, NO, RESPONSE, again, from, an, #, ...</td>\n",
       "    </tr>\n",
       "    <tr>\n",
       "      <th>2375</th>\n",
       "      <td>30371</td>\n",
       "      <td>It's not that the man did not know how to jugg...</td>\n",
       "      <td>[It, 's, not, that, the, man, did, not, know, ...</td>\n",
       "    </tr>\n",
       "    <tr>\n",
       "      <th>73</th>\n",
       "      <td>10073</td>\n",
       "      <td>Absolutely fuming I've just scratched all my c...</td>\n",
       "      <td>[Absolutely, fuming, I, 've, just, scratched, ...</td>\n",
       "    </tr>\n",
       "    <tr>\n",
       "      <th>558</th>\n",
       "      <td>10558</td>\n",
       "      <td>@kingcharles9th i Lowkey forgot you had twitte...</td>\n",
       "      <td>[@, kingcharles9th, i, Lowkey, forgot, you, ha...</td>\n",
       "    </tr>\n",
       "  </tbody>\n",
       "</table>\n",
       "</div>"
      ],
      "text/plain": [
       "         id                                               text  \\\n",
       "483   10483  Are belittling kitty straight a service? provo...   \n",
       "22    10022  I got a NO RESPONSE again from an #irate custo...   \n",
       "2375  30371  It's not that the man did not know how to jugg...   \n",
       "73    10073  Absolutely fuming I've just scratched all my c...   \n",
       "558   10558  @kingcharles9th i Lowkey forgot you had twitte...   \n",
       "\n",
       "                                         text_tokenized  \n",
       "483   [Are, belittling, kitty, straight, a, service,...  \n",
       "22    [I, got, a, NO, RESPONSE, again, from, an, #, ...  \n",
       "2375  [It, 's, not, that, the, man, did, not, know, ...  \n",
       "73    [Absolutely, fuming, I, 've, just, scratched, ...  \n",
       "558   [@, kingcharles9th, i, Lowkey, forgot, you, ha...  "
      ]
     },
     "execution_count": 29,
     "metadata": {},
     "output_type": "execute_result"
    }
   ],
   "source": [
    "# # if you want to see the training messages, you can use it\n",
    "# import logging\n",
    "# logging.basicConfig(format='%(asctime)s : %(levelname)s : %(message)s', level=logging.INFO)\n",
    "\n",
    "## the input type\n",
    "train_df['text_tokenized'] = train_df['text'].apply(lambda x: nltk.word_tokenize(x))\n",
    "train_df[['id', 'text', 'text_tokenized']].head()"
   ]
  },
  {
   "cell_type": "code",
   "execution_count": 30,
   "metadata": {
    "ExecuteTime": {
     "end_time": "2023-12-29T06:51:04.470977Z",
     "start_time": "2023-12-29T06:51:04.466596Z"
    }
   },
   "outputs": [
    {
     "data": {
      "text/plain": [
       "array([list(['Are', 'belittling', 'kitty', 'straight', 'a', 'service', '?', 'provoke', 'lift', 'aboard', '!', ':', 'Wycelv']),\n",
       "       list(['I', 'got', 'a', 'NO', 'RESPONSE', 'again', 'from', 'an', '#', 'irate', 'customer', 'of', '#', 'amazon', '😞😞\\\\nwhy', 'ca', \"n't\", 'they', 'understand', 'that', 'it', \"'s\", 'not', 'always', 'amazon', 'fault', '..', '\\\\n', '#', 'carrierfault']),\n",
       "       list(['It', \"'s\", 'not', 'that', 'the', 'man', 'did', 'not', 'know', 'how', 'to', 'juggle', ',', 'he', 'just', 'did', \"n't\", 'have', 'the', 'balls', 'to', 'do', 'it', '.', '\\\\n', '#', 'funny', '#', 'pun', '#', 'punny', '#', 'lol', '#', 'hilarious'])],\n",
       "      dtype=object)"
      ]
     },
     "execution_count": 30,
     "metadata": {},
     "output_type": "execute_result"
    }
   ],
   "source": [
    "## create the training corpus\n",
    "training_corpus = train_df['text_tokenized'].values\n",
    "training_corpus[:3]"
   ]
  },
  {
   "cell_type": "code",
   "execution_count": 31,
   "metadata": {
    "ExecuteTime": {
     "end_time": "2023-12-29T06:51:05.500436Z",
     "start_time": "2023-12-29T06:51:04.472419Z"
    }
   },
   "outputs": [],
   "source": [
    "## setting\n",
    "vector_dim = 100\n",
    "window_size = 5\n",
    "min_count = 1\n",
    "training_epochs = 20\n",
    "\n",
    "## model\n",
    "word2vec_model = Word2Vec(sentences=training_corpus, \n",
    "                          vector_size=vector_dim, window=window_size, \n",
    "                          min_count=min_count, epochs=training_epochs)"
   ]
  },
  {
   "cell_type": "code",
   "execution_count": 32,
   "metadata": {
    "ExecuteTime": {
     "end_time": "2023-12-29T06:51:05.507562Z",
     "start_time": "2023-12-29T06:51:05.500436Z"
    }
   },
   "outputs": [
    {
     "data": {
      "text/plain": [
       "array([ 0.65884346,  0.32008788, -0.29726318, -0.1842607 ,  0.03026353,\n",
       "       -1.0516367 ,  0.11376313,  1.4113706 , -0.42006558, -0.6521983 ,\n",
       "       -0.38049805, -0.9526898 , -0.2578126 ,  0.6926382 , -0.2275273 ,\n",
       "       -0.42336467,  0.3362732 , -0.4507101 ,  0.8768593 , -0.56182736,\n",
       "        0.41927907,  0.9611105 ,  0.45037422,  0.21027228,  0.14973293,\n",
       "        0.41197982, -0.67663306,  0.5760927 , -0.2378174 ,  0.29417065,\n",
       "        0.66500646, -0.25219765,  0.46229175, -0.562064  , -0.22598343,\n",
       "        0.00660573, -0.06416591,  0.04763732, -0.37248737, -0.5262855 ,\n",
       "        0.30953372,  0.10419147, -0.4952849 ,  0.85816777,  0.92384595,\n",
       "       -0.0515049 , -0.86529046, -0.19011079,  0.4934189 ,  0.18155509,\n",
       "       -0.26846498, -0.37647313,  0.12752372,  0.01628912, -0.32521567,\n",
       "       -0.42726198,  0.1533601 , -0.34701177,  0.11768927,  0.40170968,\n",
       "        0.33669597, -0.10994487,  0.3392172 ,  0.40385678, -1.031792  ,\n",
       "        0.8157969 ,  0.14732547,  0.55466646, -1.1562902 ,  0.7156004 ,\n",
       "        0.23465781,  0.6060659 ,  0.48859063, -0.80056673,  0.8840436 ,\n",
       "        0.27331573,  0.46929678, -0.1192586 ,  0.02569769,  0.15218168,\n",
       "       -1.0784756 , -0.5854456 , -0.55027145,  0.9430498 , -0.09701663,\n",
       "       -0.9040388 ,  0.32927608,  0.32122585,  0.25476643,  0.752981  ,\n",
       "        1.0565828 , -0.11575919,  0.34006628,  0.23247527,  1.065391  ,\n",
       "        0.10131664,  0.33127162, -0.06338847,  0.22548182,  0.2829708 ],\n",
       "      dtype=float32)"
      ]
     },
     "execution_count": 32,
     "metadata": {},
     "output_type": "execute_result"
    }
   ],
   "source": [
    "# get the corresponding vector of a word\n",
    "word_vec = word2vec_model.wv['happy']\n",
    "word_vec"
   ]
  },
  {
   "cell_type": "code",
   "execution_count": 33,
   "metadata": {
    "ExecuteTime": {
     "end_time": "2023-12-29T06:51:05.539303Z",
     "start_time": "2023-12-29T06:51:05.509033Z"
    }
   },
   "outputs": [
    {
     "data": {
      "text/plain": [
       "[('Be', 0.9280518293380737),\n",
       " ('birthday', 0.9215723276138306),\n",
       " ('blessed', 0.9167580604553223),\n",
       " ('successful', 0.9134177565574646),\n",
       " ('PUSSY\\\\nP', 0.9069334268569946),\n",
       " ('right', 0.9051640033721924),\n",
       " ('dad', 0.9048972725868225),\n",
       " ('melancholic', 0.8994370102882385),\n",
       " ('establishment', 0.8979052901268005),\n",
       " ('help', 0.8973171710968018)]"
      ]
     },
     "execution_count": 33,
     "metadata": {},
     "output_type": "execute_result"
    }
   ],
   "source": [
    "# Get the most similar words\n",
    "word = 'happy'\n",
    "topn = 10\n",
    "word2vec_model.wv.most_similar(word, topn=topn)"
   ]
  },
  {
   "cell_type": "code",
   "execution_count": 35,
   "metadata": {
    "ExecuteTime": {
     "end_time": "2023-12-29T06:52:16.905716Z",
     "start_time": "2023-12-29T06:51:45.451829Z"
    }
   },
   "outputs": [
    {
     "name": "stdout",
     "output_type": "stream",
     "text": [
      "load ok\n"
     ]
    },
    {
     "data": {
      "text/plain": [
       "[('birthday', 0.9577818512916565),\n",
       " ('thank', 0.937666654586792),\n",
       " ('welcome', 0.93361496925354),\n",
       " ('love', 0.917618453502655),\n",
       " ('miss', 0.9164499640464783),\n",
       " ('hello', 0.9158352017402649),\n",
       " ('thanks', 0.9150084853172302),\n",
       " ('merry', 0.9053248167037964),\n",
       " ('bless', 0.902732253074646),\n",
       " ('wish', 0.9013165235519409)]"
      ]
     },
     "execution_count": 35,
     "metadata": {},
     "output_type": "execute_result"
    }
   ],
   "source": [
    "## If you see `SSL: CERTIFICATE_VERIFY_FAILED` error, use this:\n",
    "import ssl\n",
    "import urllib.request\n",
    "ssl._create_default_https_context = ssl._create_unverified_context\n",
    "\n",
    "glove_twitter_25_model = api.load(\"glove-twitter-25\")\n",
    "print('load ok')\n",
    "\n",
    "glove_twitter_25_model.most_similar('happy', topn=10)"
   ]
  },
  {
   "cell_type": "markdown",
   "metadata": {},
   "source": [
    "##### Exercise 7"
   ]
  },
  {
   "cell_type": "code",
   "execution_count": 37,
   "metadata": {
    "ExecuteTime": {
     "end_time": "2023-12-29T06:52:17.215376Z",
     "start_time": "2023-12-29T06:52:17.138114Z"
    }
   },
   "outputs": [
    {
     "data": {
      "text/plain": [
       "array([-0.11131855,  0.23806054,  0.01967887,  0.02188433,  0.01407374,\n",
       "       -0.44777487,  0.14495691,  0.71073286, -0.23851927, -0.3679857 ,\n",
       "       -0.20171913, -0.37894976, -0.03693708,  0.15004417,  0.12346188,\n",
       "       -0.30377022,  0.19701937, -0.31420226,  0.06524915, -0.55807147,\n",
       "        0.17904904,  0.13720769,  0.34150101, -0.0652779 , -0.08125094,\n",
       "        0.07879086, -0.16939434, -0.09468823, -0.179746  ,  0.110004  ,\n",
       "        0.19858424, -0.04051651,  0.12350676, -0.2480731 , -0.0878132 ,\n",
       "        0.24928234, -0.08259642, -0.12725941, -0.30583575, -0.47363642,\n",
       "        0.21350865, -0.29420099, -0.10644084,  0.25479644,  0.21308757,\n",
       "       -0.10591538, -0.36818032, -0.17488604,  0.16892194,  0.12092724,\n",
       "        0.03039693, -0.26513331, -0.08179615, -0.12432918, -0.20354277,\n",
       "        0.14014528,  0.16646114, -0.17859473, -0.27056257,  0.01432577,\n",
       "        0.0861302 , -0.0489651 ,  0.02941134,  0.11267961, -0.27075981,\n",
       "        0.40052072,  0.22400888,  0.36310312, -0.5116959 ,  0.43929025,\n",
       "       -0.02784636,  0.1228282 ,  0.42817544, -0.02767478,  0.34639708,\n",
       "        0.21605266,  0.10956447, -0.02087615, -0.27281864,  0.01672955,\n",
       "       -0.34911047, -0.07344885, -0.2290921 ,  0.21663143, -0.136201  ,\n",
       "       -0.20673789,  0.14273876,  0.30089154,  0.2364086 ,  0.15054711,\n",
       "        0.41871303,  0.02454785, -0.01644045,  0.07792308,  0.44837187,\n",
       "        0.29134691,  0.20622934, -0.26068328,  0.0488292 ,  0.01183785])"
      ]
     },
     "execution_count": 37,
     "metadata": {},
     "output_type": "execute_result"
    }
   ],
   "source": [
    "# Answer here\n",
    "\"\"\"\n",
    "1. Averaging word vectors: \n",
    "    Calculate the average of all word vectors in the sentence.\n",
    "2. Weighted Averaging: \n",
    "    Assign weights to each word vector based on its importance in the sentence. \n",
    "    This can be determined by word frequency, TF-IDF (Term Frequency-Inverse Document Frequency), \n",
    "    or other weighting schemes.\n",
    "3. Utilize Doc2Vec:\n",
    "    Utilize models like Doc2Vec, which are designed to generate paragraph vectors. \n",
    "4. Use RNN and LSTM:\n",
    "    Use recurrent neural networks or LSTMs to process sequences of word vectors. \n",
    "    The hidden state of the network after processing the entire sequence can be used as the representation of the sentence.\n",
    "...\n",
    "\"\"\"\n",
    "# Averaging word vectors:\n",
    "def average_word_vectors(words, model, num_features):\n",
    "    feature_vector = np.zeros((num_features,), dtype=\"float64\")\n",
    "    num_words = 0\n",
    "    for word in words:\n",
    "        if word in model.wv:\n",
    "            num_words += 1\n",
    "            feature_vector = np.add(feature_vector, model.wv[word])\n",
    "    if num_words > 0:\n",
    "        feature_vector = np.divide(feature_vector, num_words)\n",
    "    return feature_vector\n",
    "\n",
    "words = 'Calculate the average of all word vectors in the sentence.'\n",
    "average_word_vectors(words, word2vec_model, 100)"
   ]
  },
  {
   "cell_type": "markdown",
   "metadata": {},
   "source": [
    "#### Clustering"
   ]
  },
  {
   "cell_type": "code",
   "execution_count": 38,
   "metadata": {
    "ExecuteTime": {
     "end_time": "2023-12-29T06:52:17.222867Z",
     "start_time": "2023-12-29T06:52:17.217368Z"
    }
   },
   "outputs": [
    {
     "name": "stdout",
     "output_type": "stream",
     "text": [
      "target words:  ['happy', 'fear', 'angry', 'car', 'teacher', 'computer']\n"
     ]
    }
   ],
   "source": [
    "# clustering target\n",
    "target_list = ['happy', 'fear', 'angry', 'car', 'teacher', 'computer']\n",
    "print('target words: ', target_list)\n",
    "\n",
    "# convert to word vector\n",
    "X = [word2vec_model.wv[word] for word in target_list]"
   ]
  },
  {
   "cell_type": "code",
   "execution_count": 39,
   "metadata": {
    "ExecuteTime": {
     "end_time": "2023-12-29T06:52:18.502355Z",
     "start_time": "2023-12-29T06:52:17.225367Z"
    }
   },
   "outputs": [
    {
     "name": "stdout",
     "output_type": "stream",
     "text": [
      "word: happy \t cluster: 0\n",
      "word: fear \t cluster: 0\n",
      "word: angry \t cluster: 0\n",
      "word: car \t cluster: 1\n",
      "word: teacher \t cluster: 1\n",
      "word: computer \t cluster: 1\n"
     ]
    }
   ],
   "source": [
    "# we have to decide how many cluster (k) we want\n",
    "k = 2\n",
    "\n",
    "# k-means model\n",
    "kmeans_model = KMeans(n_clusters=k)\n",
    "kmeans_model.fit(X)\n",
    "\n",
    "# cluster result\n",
    "cluster_result = kmeans_model.labels_\n",
    "\n",
    "# show\n",
    "for i in range(len(target_list)):\n",
    "    print('word: {} \\t cluster: {}'.format(target_list[i], cluster_result[i]))"
   ]
  },
  {
   "cell_type": "code",
   "execution_count": 40,
   "metadata": {
    "ExecuteTime": {
     "end_time": "2023-12-29T06:52:18.617114Z",
     "start_time": "2023-12-29T06:52:18.504349Z"
    }
   },
   "outputs": [
    {
     "data": {
      "text/plain": [
       "array([1])"
      ]
     },
     "execution_count": 40,
     "metadata": {},
     "output_type": "execute_result"
    }
   ],
   "source": [
    "#check cluster membership\n",
    "word = 'student'\n",
    "word_vec = word2vec_model.wv[word]\n",
    "kmeans_model.predict([word_vec])"
   ]
  },
  {
   "cell_type": "code",
   "execution_count": 41,
   "metadata": {
    "ExecuteTime": {
     "end_time": "2023-12-29T06:52:18.698396Z",
     "start_time": "2023-12-29T06:52:18.618111Z"
    }
   },
   "outputs": [
    {
     "data": {
      "text/plain": [
       "array([0])"
      ]
     },
     "execution_count": 41,
     "metadata": {},
     "output_type": "execute_result"
    }
   ],
   "source": [
    "#check cluster membership\n",
    "word = 'sad'\n",
    "word_vec = word2vec_model.wv[word]\n",
    "kmeans_model.predict([word_vec])"
   ]
  },
  {
   "cell_type": "markdown",
   "metadata": {},
   "source": [
    "#### High-dimension visulization: t-SNE"
   ]
  },
  {
   "cell_type": "code",
   "execution_count": 42,
   "metadata": {
    "ExecuteTime": {
     "end_time": "2023-12-29T06:52:19.458779Z",
     "start_time": "2023-12-29T06:52:18.700386Z"
    }
   },
   "outputs": [
    {
     "name": "stdout",
     "output_type": "stream",
     "text": [
      "happy_words:  ['happy', 'glad', 'pleased', 'ecstatic', 'overjoyed', 'thrilled']\n",
      "angry_words:  ['angry', 'irate', 'enraged', 'indignant', 'incensed', 'annoyed']\n",
      "data_words:  ['data', 'Data', 'datasets', 'dataset', 'databases', 'statistics']\n",
      "mining_words:  ['mining', 'Mining', 'mines', 'coal_mining', 'mine', 'miner']\n",
      "\n",
      "target words: \n",
      "['happy', 'glad', 'pleased', 'ecstatic', 'overjoyed', 'thrilled', 'angry', 'irate', 'enraged', 'indignant', 'incensed', 'annoyed', 'data', 'Data', 'datasets', 'dataset', 'databases', 'statistics', 'mining', 'Mining', 'mines', 'coal_mining', 'mine', 'miner']\n",
      "\n",
      "color list:\n",
      "['b', 'b', 'b', 'b', 'b', 'b', 'g', 'g', 'g', 'g', 'g', 'g', 'r', 'r', 'r', 'r', 'r', 'r', 'y', 'y', 'y', 'y', 'y', 'y']\n"
     ]
    }
   ],
   "source": [
    "word_list = ['happy', 'angry', 'data', 'mining']\n",
    "\n",
    "topn = 5\n",
    "happy_words = ['happy'] + [word_ for word_, sim_ in w2v_google_model.most_similar('happy', topn=topn)]\n",
    "angry_words = ['angry'] + [word_ for word_, sim_ in w2v_google_model.most_similar('angry', topn=topn)]        \n",
    "data_words = ['data'] + [word_ for word_, sim_ in w2v_google_model.most_similar('data', topn=topn)]        \n",
    "mining_words = ['mining'] + [word_ for word_, sim_ in w2v_google_model.most_similar('mining', topn=topn)]        \n",
    "\n",
    "print('happy_words: ', happy_words)\n",
    "print('angry_words: ', angry_words)\n",
    "print('data_words: ', data_words)\n",
    "print('mining_words: ', mining_words)\n",
    "\n",
    "target_words = happy_words + angry_words + data_words + mining_words\n",
    "print('\\ntarget words: ')\n",
    "print(target_words)\n",
    "\n",
    "print('\\ncolor list:')\n",
    "cn = topn + 1\n",
    "color = ['b'] * cn + ['g'] * cn + ['r'] * cn + ['y'] * cn\n",
    "print(color)"
   ]
  },
  {
   "cell_type": "code",
   "execution_count": 43,
   "metadata": {
    "ExecuteTime": {
     "end_time": "2023-12-29T06:52:20.794678Z",
     "start_time": "2023-12-29T06:52:19.460773Z"
    }
   },
   "outputs": [
    {
     "data": {
      "image/png": "[encoded data removed]",
      "text/plain": [
       "<Figure size 862.5x862.5 with 1 Axes>"
      ]
     },
     "metadata": {},
     "output_type": "display_data"
    }
   ],
   "source": [
    "## w2v model\n",
    "model = w2v_google_model\n",
    "\n",
    "## prepare training word vectors\n",
    "size = 200\n",
    "target_size = len(target_words)\n",
    "all_word = list(model.index_to_key)\n",
    "word_train = target_words + all_word[:size]\n",
    "X_train = model[word_train]\n",
    "\n",
    "## t-SNE model\n",
    "tsne = TSNE(n_components=2, metric='cosine', random_state=28)\n",
    "\n",
    "## training\n",
    "X_tsne = tsne.fit_transform(X_train)\n",
    "\n",
    "## plot the result\n",
    "plt.figure(figsize=(7.5, 7.5), dpi=115)\n",
    "plt.scatter(X_tsne[:target_size, 0], X_tsne[:target_size, 1], c=color)\n",
    "for label, x, y in zip(target_words, X_tsne[:target_size, 0], X_tsne[:target_size, 1]):\n",
    "    plt.annotate(label, xy=(x,y), xytext=(0,0),  textcoords='offset points')\n",
    "plt.show()"
   ]
  },
  {
   "cell_type": "markdown",
   "metadata": {},
   "source": [
    "##### Exercise 8"
   ]
  },
  {
   "cell_type": "code",
   "execution_count": 44,
   "metadata": {
    "ExecuteTime": {
     "end_time": "2023-12-29T06:52:23.294385Z",
     "start_time": "2023-12-29T06:52:20.796669Z"
    }
   },
   "outputs": [
    {
     "name": "stdout",
     "output_type": "stream",
     "text": [
      "angry_words:  ['angry', 'irate', 'enraged', 'indignant', 'incensed', 'annoyed', 'agitated', 'frustrated', 'furious', 'unhappy', 'outraged', 'livid', 'irritated', 'exasperated', 'angrier']\n",
      "happy_words:  ['happy', 'glad', 'pleased', 'ecstatic', 'overjoyed', 'thrilled', 'satisfied', 'proud', 'delighted', 'disappointed', 'excited', 'happier', 'Said_Hirschbeck', 'elated', 'thankful']\n",
      "sad_words:  ['sad', 'saddening', 'Sad', 'saddened', 'heartbreaking', 'disheartening', 'Meny_Friedman', 'parishioner_Pat_Patello', 'saddens_me', 'distressing', 'reminders_bobbing', 'Turkoman_Shiites', 'saddest', 'unfortunate', 'sorry']\n",
      "fear_words:  ['fear', 'fearful', 'fears', 'Fear', 'fearing', 'worry', 'dread', 'feared', 'anxiety', 'apprehension', 'afraid', 'worries', 'concern', 'distrust', 'worried']\n",
      "\n",
      "target words: \n",
      "['angry', 'irate', 'enraged', 'indignant', 'incensed', 'annoyed', 'agitated', 'frustrated', 'furious', 'unhappy', 'outraged', 'livid', 'irritated', 'exasperated', 'angrier', 'happy', 'glad', 'pleased', 'ecstatic', 'overjoyed', 'thrilled', 'satisfied', 'proud', 'delighted', 'disappointed', 'excited', 'happier', 'Said_Hirschbeck', 'elated', 'thankful', 'sad', 'saddening', 'Sad', 'saddened', 'heartbreaking', 'disheartening', 'Meny_Friedman', 'parishioner_Pat_Patello', 'saddens_me', 'distressing', 'reminders_bobbing', 'Turkoman_Shiites', 'saddest', 'unfortunate', 'sorry', 'fear', 'fearful', 'fears', 'Fear', 'fearing', 'worry', 'dread', 'feared', 'anxiety', 'apprehension', 'afraid', 'worries', 'concern', 'distrust', 'worried']\n",
      "\n",
      "color list:\n",
      "['b', 'b', 'b', 'b', 'b', 'b', 'b', 'b', 'b', 'b', 'b', 'b', 'b', 'b', 'b', 'g', 'g', 'g', 'g', 'g', 'g', 'g', 'g', 'g', 'g', 'g', 'g', 'g', 'g', 'g', 'r', 'r', 'r', 'r', 'r', 'r', 'r', 'r', 'r', 'r', 'r', 'r', 'r', 'r', 'r', 'y', 'y', 'y', 'y', 'y', 'y', 'y', 'y', 'y', 'y', 'y', 'y', 'y', 'y', 'y']\n"
     ]
    },
    {
     "data": {
      "image/png": "[encoded data removed]",
      "text/plain": [
       "<Figure size 862.5x862.5 with 1 Axes>"
      ]
     },
     "metadata": {},
     "output_type": "display_data"
    }
   ],
   "source": [
    "# Answer here\n",
    "word_list = ['angry', 'happy', 'sad', 'fear']\n",
    "\n",
    "topn = 14\n",
    "angry_words = ['angry'] + [word_ for word_, sim_ in w2v_google_model.most_similar('angry', topn=topn)]\n",
    "happy_words = ['happy'] + [word_ for word_, sim_ in w2v_google_model.most_similar('happy', topn=topn)]        \n",
    "sad_words = ['sad'] + [word_ for word_, sim_ in w2v_google_model.most_similar('sad', topn=topn)]        \n",
    "fear_words = ['fear'] + [word_ for word_, sim_ in w2v_google_model.most_similar('fear', topn=topn)]        \n",
    "\n",
    "print('angry_words: ', angry_words)\n",
    "print('happy_words: ', happy_words)\n",
    "print('sad_words: ', sad_words)\n",
    "print('fear_words: ', fear_words)\n",
    "\n",
    "target_words = angry_words + happy_words + sad_words + fear_words\n",
    "print('\\ntarget words: ')\n",
    "print(target_words)\n",
    "\n",
    "print('\\ncolor list:')\n",
    "cn = topn + 1\n",
    "color = ['b'] * cn + ['g'] * cn + ['r'] * cn + ['y'] * cn\n",
    "print(color)\n",
    "\n",
    "## prepare training word vectors\n",
    "size = 200\n",
    "target_size = len(target_words)\n",
    "all_word = list(model.index_to_key)\n",
    "word_train = target_words + all_word[:size]\n",
    "X_train = model[word_train]\n",
    "\n",
    "## t-SNE model\n",
    "tsne = TSNE(n_components=2, metric='cosine', random_state=28)\n",
    "\n",
    "## training\n",
    "X_tsne = tsne.fit_transform(X_train)\n",
    "\n",
    "## plot the result\n",
    "plt.figure(figsize=(7.5, 7.5), dpi=115)\n",
    "plt.scatter(X_tsne[:target_size, 0], X_tsne[:target_size, 1], c=color)\n",
    "for label, x, y in zip(target_words, X_tsne[:target_size, 0], X_tsne[:target_size, 1]):\n",
    "    plt.annotate(label, xy=(x,y), xytext=(0,0),  textcoords='offset points')\n",
    "plt.show()"
   ]
  },
  {
   "cell_type": "markdown",
   "metadata": {},
   "source": [
    "### Kaggle competition"
   ]
  },
  {
   "cell_type": "markdown",
   "metadata": {},
   "source": [
    "#### Import package"
   ]
  },
  {
   "cell_type": "code",
   "execution_count": 82,
   "metadata": {
    "ExecuteTime": {
     "end_time": "2023-12-31T03:59:56.162234Z",
     "start_time": "2023-12-31T03:59:55.504021Z"
    }
   },
   "outputs": [
    {
     "name": "stderr",
     "output_type": "stream",
     "text": [
      "[nltk_data] Downloading package punkt to\n",
      "[nltk_data]     C:\\Users\\908\\AppData\\Roaming\\nltk_data...\n",
      "[nltk_data]   Package punkt is already up-to-date!\n",
      "[nltk_data] Downloading package stopwords to\n",
      "[nltk_data]     C:\\Users\\908\\AppData\\Roaming\\nltk_data...\n",
      "[nltk_data]   Package stopwords is already up-to-date!\n",
      "[nltk_data] Downloading package wordnet to\n",
      "[nltk_data]     C:\\Users\\908\\AppData\\Roaming\\nltk_data...\n",
      "[nltk_data]   Package wordnet is already up-to-date!\n"
     ]
    }
   ],
   "source": [
    "import pandas as pd\n",
    "import matplotlib.pyplot as plt\n",
    "import seaborn as sns\n",
    "import numpy as np\n",
    "import json\n",
    "import itertools\n",
    "\n",
    "from sklearn.feature_extraction.text import CountVectorizer, TfidfVectorizer\n",
    "from sklearn.metrics import accuracy_score, classification_report, confusion_matrix, f1_score\n",
    "from sklearn.preprocessing import LabelEncoder, MinMaxScaler\n",
    "from sklearn.model_selection import train_test_split\n",
    "from xgboost import XGBClassifier\n",
    "\n",
    "import nltk\n",
    "nltk.download('punkt')\n",
    "nltk.download('stopwords')\n",
    "nltk.download('wordnet')\n",
    "\n",
    "from nltk.tokenize import word_tokenize\n",
    "from nltk.corpus import stopwords\n",
    "from nltk.stem import WordNetLemmatizer\n",
    "\n",
    "import gensim\n",
    "from gensim.models import Word2Vec, KeyedVectors\n",
    "import gensim.downloader as api\n",
    "\n",
    "import spacy\n",
    "from contractions import fix\n",
    "from spellchecker import SpellChecker\n",
    "from collections import Counter\n",
    "\n",
    "## ignore warnings\n",
    "import warnings\n",
    "warnings.filterwarnings('ignore')"
   ]
  },
  {
   "cell_type": "markdown",
   "metadata": {},
   "source": [
    "#### Read data"
   ]
  },
  {
   "cell_type": "code",
   "execution_count": 83,
   "metadata": {
    "ExecuteTime": {
     "end_time": "2023-12-31T03:59:59.622427Z",
     "start_time": "2023-12-31T03:59:58.562573Z"
    }
   },
   "outputs": [
    {
     "data": {
      "text/html": [
       "<div>\n",
       "<style scoped>\n",
       "    .dataframe tbody tr th:only-of-type {\n",
       "        vertical-align: middle;\n",
       "    }\n",
       "\n",
       "    .dataframe tbody tr th {\n",
       "        vertical-align: top;\n",
       "    }\n",
       "\n",
       "    .dataframe thead th {\n",
       "        text-align: right;\n",
       "    }\n",
       "</style>\n",
       "<table border=\"1\" class=\"dataframe\">\n",
       "  <thead>\n",
       "    <tr style=\"text-align: right;\">\n",
       "      <th></th>\n",
       "      <th>tweet_id</th>\n",
       "      <th>identification</th>\n",
       "    </tr>\n",
       "  </thead>\n",
       "  <tbody>\n",
       "    <tr>\n",
       "      <th>0</th>\n",
       "      <td>0x28cc61</td>\n",
       "      <td>test</td>\n",
       "    </tr>\n",
       "    <tr>\n",
       "      <th>1</th>\n",
       "      <td>0x29e452</td>\n",
       "      <td>train</td>\n",
       "    </tr>\n",
       "    <tr>\n",
       "      <th>2</th>\n",
       "      <td>0x2b3819</td>\n",
       "      <td>train</td>\n",
       "    </tr>\n",
       "    <tr>\n",
       "      <th>3</th>\n",
       "      <td>0x2db41f</td>\n",
       "      <td>test</td>\n",
       "    </tr>\n",
       "    <tr>\n",
       "      <th>4</th>\n",
       "      <td>0x2a2acc</td>\n",
       "      <td>train</td>\n",
       "    </tr>\n",
       "    <tr>\n",
       "      <th>...</th>\n",
       "      <td>...</td>\n",
       "      <td>...</td>\n",
       "    </tr>\n",
       "    <tr>\n",
       "      <th>1867530</th>\n",
       "      <td>0x227e25</td>\n",
       "      <td>train</td>\n",
       "    </tr>\n",
       "    <tr>\n",
       "      <th>1867531</th>\n",
       "      <td>0x293813</td>\n",
       "      <td>train</td>\n",
       "    </tr>\n",
       "    <tr>\n",
       "      <th>1867532</th>\n",
       "      <td>0x1e1a7e</td>\n",
       "      <td>train</td>\n",
       "    </tr>\n",
       "    <tr>\n",
       "      <th>1867533</th>\n",
       "      <td>0x2156a5</td>\n",
       "      <td>train</td>\n",
       "    </tr>\n",
       "    <tr>\n",
       "      <th>1867534</th>\n",
       "      <td>0x2bb9d2</td>\n",
       "      <td>train</td>\n",
       "    </tr>\n",
       "  </tbody>\n",
       "</table>\n",
       "<p>1867535 rows × 2 columns</p>\n",
       "</div>"
      ],
      "text/plain": [
       "         tweet_id identification\n",
       "0        0x28cc61           test\n",
       "1        0x29e452          train\n",
       "2        0x2b3819          train\n",
       "3        0x2db41f           test\n",
       "4        0x2a2acc          train\n",
       "...           ...            ...\n",
       "1867530  0x227e25          train\n",
       "1867531  0x293813          train\n",
       "1867532  0x1e1a7e          train\n",
       "1867533  0x2156a5          train\n",
       "1867534  0x2bb9d2          train\n",
       "\n",
       "[1867535 rows x 2 columns]"
      ]
     },
     "execution_count": 83,
     "metadata": {},
     "output_type": "execute_result"
    }
   ],
   "source": [
    "iden_df = pd.read_csv(r'dm2023-isa5810-lab2-homework/data_identification.csv')\n",
    "iden_df"
   ]
  },
  {
   "cell_type": "code",
   "execution_count": 84,
   "metadata": {
    "ExecuteTime": {
     "end_time": "2023-12-31T04:00:01.963004Z",
     "start_time": "2023-12-31T04:00:00.875766Z"
    }
   },
   "outputs": [
    {
     "data": {
      "text/html": [
       "<div>\n",
       "<style scoped>\n",
       "    .dataframe tbody tr th:only-of-type {\n",
       "        vertical-align: middle;\n",
       "    }\n",
       "\n",
       "    .dataframe tbody tr th {\n",
       "        vertical-align: top;\n",
       "    }\n",
       "\n",
       "    .dataframe thead th {\n",
       "        text-align: right;\n",
       "    }\n",
       "</style>\n",
       "<table border=\"1\" class=\"dataframe\">\n",
       "  <thead>\n",
       "    <tr style=\"text-align: right;\">\n",
       "      <th></th>\n",
       "      <th>tweet_id</th>\n",
       "      <th>emotion</th>\n",
       "    </tr>\n",
       "  </thead>\n",
       "  <tbody>\n",
       "    <tr>\n",
       "      <th>0</th>\n",
       "      <td>0x3140b1</td>\n",
       "      <td>sadness</td>\n",
       "    </tr>\n",
       "    <tr>\n",
       "      <th>1</th>\n",
       "      <td>0x368b73</td>\n",
       "      <td>disgust</td>\n",
       "    </tr>\n",
       "    <tr>\n",
       "      <th>2</th>\n",
       "      <td>0x296183</td>\n",
       "      <td>anticipation</td>\n",
       "    </tr>\n",
       "    <tr>\n",
       "      <th>3</th>\n",
       "      <td>0x2bd6e1</td>\n",
       "      <td>joy</td>\n",
       "    </tr>\n",
       "    <tr>\n",
       "      <th>4</th>\n",
       "      <td>0x2ee1dd</td>\n",
       "      <td>anticipation</td>\n",
       "    </tr>\n",
       "    <tr>\n",
       "      <th>...</th>\n",
       "      <td>...</td>\n",
       "      <td>...</td>\n",
       "    </tr>\n",
       "    <tr>\n",
       "      <th>1455558</th>\n",
       "      <td>0x38dba0</td>\n",
       "      <td>joy</td>\n",
       "    </tr>\n",
       "    <tr>\n",
       "      <th>1455559</th>\n",
       "      <td>0x300ea2</td>\n",
       "      <td>joy</td>\n",
       "    </tr>\n",
       "    <tr>\n",
       "      <th>1455560</th>\n",
       "      <td>0x360b99</td>\n",
       "      <td>fear</td>\n",
       "    </tr>\n",
       "    <tr>\n",
       "      <th>1455561</th>\n",
       "      <td>0x22eecf</td>\n",
       "      <td>joy</td>\n",
       "    </tr>\n",
       "    <tr>\n",
       "      <th>1455562</th>\n",
       "      <td>0x2fb282</td>\n",
       "      <td>anticipation</td>\n",
       "    </tr>\n",
       "  </tbody>\n",
       "</table>\n",
       "<p>1455563 rows × 2 columns</p>\n",
       "</div>"
      ],
      "text/plain": [
       "         tweet_id       emotion\n",
       "0        0x3140b1       sadness\n",
       "1        0x368b73       disgust\n",
       "2        0x296183  anticipation\n",
       "3        0x2bd6e1           joy\n",
       "4        0x2ee1dd  anticipation\n",
       "...           ...           ...\n",
       "1455558  0x38dba0           joy\n",
       "1455559  0x300ea2           joy\n",
       "1455560  0x360b99          fear\n",
       "1455561  0x22eecf           joy\n",
       "1455562  0x2fb282  anticipation\n",
       "\n",
       "[1455563 rows x 2 columns]"
      ]
     },
     "execution_count": 84,
     "metadata": {},
     "output_type": "execute_result"
    }
   ],
   "source": [
    "emotion_df = pd.read_csv(r'dm2023-isa5810-lab2-homework/emotion.csv')\n",
    "emotion_df"
   ]
  },
  {
   "cell_type": "markdown",
   "metadata": {},
   "source": [
    "Parsing json file"
   ]
  },
  {
   "cell_type": "code",
   "execution_count": 48,
   "metadata": {
    "ExecuteTime": {
     "end_time": "2023-12-29T06:52:42.832181Z",
     "start_time": "2023-12-29T06:52:42.829233Z"
    }
   },
   "outputs": [],
   "source": [
    "# data = {\n",
    "#     'tweet_id': [],\n",
    "#     'text': [],\n",
    "#     'crawl_date': [],\n",
    "#     'hashtag': [],\n",
    "#     'score': [],\n",
    "#     'data_type': [],\n",
    "#     'index': []\n",
    "# }"
   ]
  },
  {
   "cell_type": "code",
   "execution_count": 49,
   "metadata": {
    "ExecuteTime": {
     "end_time": "2023-12-29T06:52:42.842189Z",
     "start_time": "2023-12-29T06:52:42.833176Z"
    }
   },
   "outputs": [],
   "source": [
    "# path = r'dm2023-isa5810-lab2-homework/tweets_DM.json'\n",
    "\n",
    "# with open(path, 'r') as openfile:\n",
    "#     for line in openfile:\n",
    "        \n",
    "#         json_object = json.loads(line)\n",
    "# #         json_formatted_str = json.dumps(json_object, indent=4)\n",
    "# #         print(json_formatted_str)\n",
    "        \n",
    "#         score = json_object[\"_score\"]\n",
    "#         index = json_object['_index']\n",
    "#         hashtag = json_object['_source']['tweet']['hashtags']\n",
    "#         tweet_id = json_object[\"_source\"][\"tweet\"][\"tweet_id\"]\n",
    "#         text = json_object[\"_source\"][\"tweet\"][\"text\"]\n",
    "#         crawl_date = json_object['_crawldate']\n",
    "#         data_type = json_object['_type']\n",
    "        \n",
    "#         data['tweet_id'].append(tweet_id) if tweet_id != None or tweet_id != '' else data['tweet_id'].append(np.nan)\n",
    "#         data['text'].append(text) if text != None or text != '' else data['text'].append(np.nan)\n",
    "#         data['crawl_date'].append(crawl_date) if crawl_date != None or crawl_date != '' else data['crawl_date'].append(np.nan)\n",
    "#         data['hashtag'].append(hashtag) if len(hashtag) != 0 else data['hashtag'].append(np.nan)\n",
    "#         data['score'].append(score) if score != None or score != '' else data['score'].append(np.nan)\n",
    "#         data['data_type'].append(data_type) if data_type != None or data_type != '' else data['data_type'].append(np.nan)\n",
    "#         data['index'].append(index) if index != None or index != '' else data['index'].append(np.nan)\n"
   ]
  },
  {
   "cell_type": "code",
   "execution_count": 50,
   "metadata": {
    "ExecuteTime": {
     "end_time": "2023-12-29T06:52:42.853228Z",
     "start_time": "2023-12-29T06:52:42.843181Z"
    }
   },
   "outputs": [],
   "source": [
    "# Save data to csv\n",
    "# DATA = pd.DataFrame(data)\n",
    "# DATA.to_csv('tweets_DM.csv', index=False)"
   ]
  },
  {
   "cell_type": "markdown",
   "metadata": {},
   "source": [
    "tweets_DM.csv: raw data in dataframe<br>\n",
    "If executing the below code is needed, please click [this link](https://drive.google.com/file/d/1PR3FzaeS0DQFRh5fvuLSF7rY-mk5GntZ/view?usp=sharing) and download the csv file.<br>\n",
    "And put the csv under the same folder as this Homework.ipynb file."
   ]
  },
  {
   "cell_type": "code",
   "execution_count": 85,
   "metadata": {
    "ExecuteTime": {
     "end_time": "2023-12-31T04:00:16.158496Z",
     "start_time": "2023-12-31T04:00:08.556965Z"
    }
   },
   "outputs": [],
   "source": [
    "DATA = pd.read_csv('tweets_DM.csv')  # please download the file from the above link ><"
   ]
  },
  {
   "cell_type": "code",
   "execution_count": 52,
   "metadata": {
    "ExecuteTime": {
     "end_time": "2023-12-29T06:52:51.773314Z",
     "start_time": "2023-12-29T06:52:49.149669Z"
    }
   },
   "outputs": [],
   "source": [
    "DATA = DATA.merge(iden_df, on='tweet_id', how='left')"
   ]
  },
  {
   "cell_type": "code",
   "execution_count": 53,
   "metadata": {
    "ExecuteTime": {
     "end_time": "2023-12-29T06:52:54.232540Z",
     "start_time": "2023-12-29T06:52:51.774316Z"
    }
   },
   "outputs": [
    {
     "data": {
      "text/html": [
       "<div>\n",
       "<style scoped>\n",
       "    .dataframe tbody tr th:only-of-type {\n",
       "        vertical-align: middle;\n",
       "    }\n",
       "\n",
       "    .dataframe tbody tr th {\n",
       "        vertical-align: top;\n",
       "    }\n",
       "\n",
       "    .dataframe thead th {\n",
       "        text-align: right;\n",
       "    }\n",
       "</style>\n",
       "<table border=\"1\" class=\"dataframe\">\n",
       "  <thead>\n",
       "    <tr style=\"text-align: right;\">\n",
       "      <th></th>\n",
       "      <th>tweet_id</th>\n",
       "      <th>text</th>\n",
       "      <th>crawl_date</th>\n",
       "      <th>hashtag</th>\n",
       "      <th>score</th>\n",
       "      <th>data_type</th>\n",
       "      <th>index</th>\n",
       "      <th>emotion</th>\n",
       "    </tr>\n",
       "  </thead>\n",
       "  <tbody>\n",
       "    <tr>\n",
       "      <th>0</th>\n",
       "      <td>0x376b20</td>\n",
       "      <td>People who post \"add me on #Snapchat\" must be ...</td>\n",
       "      <td>2015-05-23 11:42:47</td>\n",
       "      <td>['Snapchat']</td>\n",
       "      <td>391</td>\n",
       "      <td>tweets</td>\n",
       "      <td>hashtag_tweets</td>\n",
       "      <td>anticipation</td>\n",
       "    </tr>\n",
       "    <tr>\n",
       "      <th>1</th>\n",
       "      <td>0x2d5350</td>\n",
       "      <td>@brianklaas As we see, Trump is dangerous to #...</td>\n",
       "      <td>2016-01-28 04:52:09</td>\n",
       "      <td>['freepress', 'TrumpLegacy', 'CNN']</td>\n",
       "      <td>433</td>\n",
       "      <td>tweets</td>\n",
       "      <td>hashtag_tweets</td>\n",
       "      <td>sadness</td>\n",
       "    </tr>\n",
       "    <tr>\n",
       "      <th>2</th>\n",
       "      <td>0x1cd5b0</td>\n",
       "      <td>Now ISSA is stalking Tasha 😂😂😂 &lt;LH&gt;</td>\n",
       "      <td>2016-01-24 23:53:05</td>\n",
       "      <td>NaN</td>\n",
       "      <td>376</td>\n",
       "      <td>tweets</td>\n",
       "      <td>hashtag_tweets</td>\n",
       "      <td>fear</td>\n",
       "    </tr>\n",
       "    <tr>\n",
       "      <th>3</th>\n",
       "      <td>0x1d755c</td>\n",
       "      <td>@RISKshow @TheKevinAllison Thx for the BEST TI...</td>\n",
       "      <td>2015-06-11 04:44:05</td>\n",
       "      <td>['authentic', 'LaughOutLoud']</td>\n",
       "      <td>120</td>\n",
       "      <td>tweets</td>\n",
       "      <td>hashtag_tweets</td>\n",
       "      <td>joy</td>\n",
       "    </tr>\n",
       "    <tr>\n",
       "      <th>4</th>\n",
       "      <td>0x2c91a8</td>\n",
       "      <td>Still waiting on those supplies Liscus. &lt;LH&gt;</td>\n",
       "      <td>2015-08-18 02:30:07</td>\n",
       "      <td>NaN</td>\n",
       "      <td>1021</td>\n",
       "      <td>tweets</td>\n",
       "      <td>hashtag_tweets</td>\n",
       "      <td>anticipation</td>\n",
       "    </tr>\n",
       "    <tr>\n",
       "      <th>...</th>\n",
       "      <td>...</td>\n",
       "      <td>...</td>\n",
       "      <td>...</td>\n",
       "      <td>...</td>\n",
       "      <td>...</td>\n",
       "      <td>...</td>\n",
       "      <td>...</td>\n",
       "      <td>...</td>\n",
       "    </tr>\n",
       "    <tr>\n",
       "      <th>1455558</th>\n",
       "      <td>0x321566</td>\n",
       "      <td>I'm SO HAPPY!!! #NoWonder the name of this sho...</td>\n",
       "      <td>2016-12-26 02:44:07</td>\n",
       "      <td>['NoWonder', 'Happy']</td>\n",
       "      <td>94</td>\n",
       "      <td>tweets</td>\n",
       "      <td>hashtag_tweets</td>\n",
       "      <td>joy</td>\n",
       "    </tr>\n",
       "    <tr>\n",
       "      <th>1455559</th>\n",
       "      <td>0x38959e</td>\n",
       "      <td>In every circumtance I'd like to be thankful t...</td>\n",
       "      <td>2015-04-01 08:14:56</td>\n",
       "      <td>NaN</td>\n",
       "      <td>627</td>\n",
       "      <td>tweets</td>\n",
       "      <td>hashtag_tweets</td>\n",
       "      <td>joy</td>\n",
       "    </tr>\n",
       "    <tr>\n",
       "      <th>1455560</th>\n",
       "      <td>0x2cbca6</td>\n",
       "      <td>there's currently two girls walking around the...</td>\n",
       "      <td>2016-11-17 23:46:22</td>\n",
       "      <td>['blessyou']</td>\n",
       "      <td>274</td>\n",
       "      <td>tweets</td>\n",
       "      <td>hashtag_tweets</td>\n",
       "      <td>joy</td>\n",
       "    </tr>\n",
       "    <tr>\n",
       "      <th>1455561</th>\n",
       "      <td>0x24faed</td>\n",
       "      <td>Ah, corporate life, where you can date &lt;LH&gt; us...</td>\n",
       "      <td>2016-09-02 14:25:06</td>\n",
       "      <td>NaN</td>\n",
       "      <td>840</td>\n",
       "      <td>tweets</td>\n",
       "      <td>hashtag_tweets</td>\n",
       "      <td>joy</td>\n",
       "    </tr>\n",
       "    <tr>\n",
       "      <th>1455562</th>\n",
       "      <td>0x34be8c</td>\n",
       "      <td>Blessed to be living #Sundayvibes &lt;LH&gt;</td>\n",
       "      <td>2016-11-16 01:40:07</td>\n",
       "      <td>['Sundayvibes']</td>\n",
       "      <td>360</td>\n",
       "      <td>tweets</td>\n",
       "      <td>hashtag_tweets</td>\n",
       "      <td>joy</td>\n",
       "    </tr>\n",
       "  </tbody>\n",
       "</table>\n",
       "<p>1455563 rows × 8 columns</p>\n",
       "</div>"
      ],
      "text/plain": [
       "         tweet_id                                               text  \\\n",
       "0        0x376b20  People who post \"add me on #Snapchat\" must be ...   \n",
       "1        0x2d5350  @brianklaas As we see, Trump is dangerous to #...   \n",
       "2        0x1cd5b0                Now ISSA is stalking Tasha 😂😂😂 <LH>   \n",
       "3        0x1d755c  @RISKshow @TheKevinAllison Thx for the BEST TI...   \n",
       "4        0x2c91a8       Still waiting on those supplies Liscus. <LH>   \n",
       "...           ...                                                ...   \n",
       "1455558  0x321566  I'm SO HAPPY!!! #NoWonder the name of this sho...   \n",
       "1455559  0x38959e  In every circumtance I'd like to be thankful t...   \n",
       "1455560  0x2cbca6  there's currently two girls walking around the...   \n",
       "1455561  0x24faed  Ah, corporate life, where you can date <LH> us...   \n",
       "1455562  0x34be8c             Blessed to be living #Sundayvibes <LH>   \n",
       "\n",
       "                  crawl_date                              hashtag  score  \\\n",
       "0        2015-05-23 11:42:47                         ['Snapchat']    391   \n",
       "1        2016-01-28 04:52:09  ['freepress', 'TrumpLegacy', 'CNN']    433   \n",
       "2        2016-01-24 23:53:05                                  NaN    376   \n",
       "3        2015-06-11 04:44:05        ['authentic', 'LaughOutLoud']    120   \n",
       "4        2015-08-18 02:30:07                                  NaN   1021   \n",
       "...                      ...                                  ...    ...   \n",
       "1455558  2016-12-26 02:44:07                ['NoWonder', 'Happy']     94   \n",
       "1455559  2015-04-01 08:14:56                                  NaN    627   \n",
       "1455560  2016-11-17 23:46:22                         ['blessyou']    274   \n",
       "1455561  2016-09-02 14:25:06                                  NaN    840   \n",
       "1455562  2016-11-16 01:40:07                      ['Sundayvibes']    360   \n",
       "\n",
       "        data_type           index       emotion  \n",
       "0          tweets  hashtag_tweets  anticipation  \n",
       "1          tweets  hashtag_tweets       sadness  \n",
       "2          tweets  hashtag_tweets          fear  \n",
       "3          tweets  hashtag_tweets           joy  \n",
       "4          tweets  hashtag_tweets  anticipation  \n",
       "...           ...             ...           ...  \n",
       "1455558    tweets  hashtag_tweets           joy  \n",
       "1455559    tweets  hashtag_tweets           joy  \n",
       "1455560    tweets  hashtag_tweets           joy  \n",
       "1455561    tweets  hashtag_tweets           joy  \n",
       "1455562    tweets  hashtag_tweets           joy  \n",
       "\n",
       "[1455563 rows x 8 columns]"
      ]
     },
     "execution_count": 53,
     "metadata": {},
     "output_type": "execute_result"
    }
   ],
   "source": [
    "train_df = DATA[DATA['identification'] == 'train']\n",
    "train_df = train_df.merge(emotion_df, on='tweet_id', how='left')\n",
    "train_df.drop('identification', axis=1, inplace=True)\n",
    "train_df"
   ]
  },
  {
   "cell_type": "markdown",
   "metadata": {},
   "source": [
    "#### Preprocessing"
   ]
  },
  {
   "cell_type": "markdown",
   "metadata": {},
   "source": [
    "<b>First, I tokenize the sentence, then remove stop words, and perform lemmatization.<br>\n",
    "I also tried to do the above steps using spaCy and BertTokenizer but did not finish these 2 preprocessing experiments.\n",
    "</b>"
   ]
  },
  {
   "cell_type": "code",
   "execution_count": 55,
   "metadata": {
    "ExecuteTime": {
     "end_time": "2023-12-29T06:53:12.223458Z",
     "start_time": "2023-12-29T06:53:11.150314Z"
    }
   },
   "outputs": [],
   "source": [
    "nlp = spacy.load(\"en_core_web_sm\")\n",
    "spell = SpellChecker()"
   ]
  },
  {
   "cell_type": "code",
   "execution_count": 56,
   "metadata": {
    "ExecuteTime": {
     "end_time": "2023-12-29T06:53:12.240294Z",
     "start_time": "2023-12-29T06:53:12.225452Z"
    }
   },
   "outputs": [
    {
     "data": {
      "text/plain": [
       "{'a',\n",
       " 'about',\n",
       " 'above',\n",
       " 'after',\n",
       " 'again',\n",
       " 'against',\n",
       " 'ain',\n",
       " 'all',\n",
       " 'am',\n",
       " 'an',\n",
       " 'and',\n",
       " 'any',\n",
       " 'are',\n",
       " 'aren',\n",
       " \"aren't\",\n",
       " 'as',\n",
       " 'at',\n",
       " 'be',\n",
       " 'because',\n",
       " 'been',\n",
       " 'before',\n",
       " 'being',\n",
       " 'below',\n",
       " 'between',\n",
       " 'both',\n",
       " 'but',\n",
       " 'by',\n",
       " 'can',\n",
       " 'couldn',\n",
       " \"couldn't\",\n",
       " 'd',\n",
       " 'did',\n",
       " 'didn',\n",
       " \"didn't\",\n",
       " 'do',\n",
       " 'does',\n",
       " 'doesn',\n",
       " \"doesn't\",\n",
       " 'doing',\n",
       " 'don',\n",
       " \"don't\",\n",
       " 'down',\n",
       " 'during',\n",
       " 'each',\n",
       " 'few',\n",
       " 'for',\n",
       " 'from',\n",
       " 'further',\n",
       " 'had',\n",
       " 'hadn',\n",
       " \"hadn't\",\n",
       " 'has',\n",
       " 'hasn',\n",
       " \"hasn't\",\n",
       " 'have',\n",
       " 'haven',\n",
       " \"haven't\",\n",
       " 'having',\n",
       " 'he',\n",
       " 'her',\n",
       " 'here',\n",
       " 'hers',\n",
       " 'herself',\n",
       " 'him',\n",
       " 'himself',\n",
       " 'his',\n",
       " 'how',\n",
       " 'i',\n",
       " 'if',\n",
       " 'in',\n",
       " 'into',\n",
       " 'is',\n",
       " 'isn',\n",
       " \"isn't\",\n",
       " 'it',\n",
       " \"it's\",\n",
       " 'its',\n",
       " 'itself',\n",
       " 'just',\n",
       " 'lh',\n",
       " 'll',\n",
       " 'm',\n",
       " 'ma',\n",
       " 'me',\n",
       " 'mightn',\n",
       " \"mightn't\",\n",
       " 'more',\n",
       " 'most',\n",
       " 'mustn',\n",
       " \"mustn't\",\n",
       " 'my',\n",
       " 'myself',\n",
       " 'needn',\n",
       " \"needn't\",\n",
       " 'no',\n",
       " 'nor',\n",
       " 'not',\n",
       " 'now',\n",
       " 'o',\n",
       " 'of',\n",
       " 'off',\n",
       " 'on',\n",
       " 'once',\n",
       " 'only',\n",
       " 'or',\n",
       " 'other',\n",
       " 'our',\n",
       " 'ours',\n",
       " 'ourselves',\n",
       " 'out',\n",
       " 'over',\n",
       " 'own',\n",
       " 're',\n",
       " 's',\n",
       " 'same',\n",
       " 'shan',\n",
       " \"shan't\",\n",
       " 'she',\n",
       " \"she's\",\n",
       " 'should',\n",
       " \"should've\",\n",
       " 'shouldn',\n",
       " \"shouldn't\",\n",
       " 'so',\n",
       " 'some',\n",
       " 'such',\n",
       " 't',\n",
       " 'than',\n",
       " 'that',\n",
       " \"that'll\",\n",
       " 'the',\n",
       " 'their',\n",
       " 'theirs',\n",
       " 'them',\n",
       " 'themselves',\n",
       " 'then',\n",
       " 'there',\n",
       " 'these',\n",
       " 'they',\n",
       " 'this',\n",
       " 'those',\n",
       " 'through',\n",
       " 'to',\n",
       " 'too',\n",
       " 'under',\n",
       " 'until',\n",
       " 'up',\n",
       " 've',\n",
       " 'very',\n",
       " 'was',\n",
       " 'wasn',\n",
       " \"wasn't\",\n",
       " 'we',\n",
       " 'were',\n",
       " 'weren',\n",
       " \"weren't\",\n",
       " 'what',\n",
       " 'when',\n",
       " 'where',\n",
       " 'which',\n",
       " 'while',\n",
       " 'who',\n",
       " 'whom',\n",
       " 'why',\n",
       " 'will',\n",
       " 'with',\n",
       " 'won',\n",
       " \"won't\",\n",
       " 'wouldn',\n",
       " \"wouldn't\",\n",
       " 'y',\n",
       " 'you',\n",
       " \"you'd\",\n",
       " \"you'll\",\n",
       " \"you're\",\n",
       " \"you've\",\n",
       " 'your',\n",
       " 'yours',\n",
       " 'yourself',\n",
       " 'yourselves'}"
      ]
     },
     "execution_count": 56,
     "metadata": {},
     "output_type": "execute_result"
    }
   ],
   "source": [
    "stop_words = set(stopwords.words('english'))\n",
    "stop_words.add('lh')\n",
    "stop_words"
   ]
  },
  {
   "cell_type": "code",
   "execution_count": 57,
   "metadata": {
    "ExecuteTime": {
     "end_time": "2023-12-29T06:53:12.245798Z",
     "start_time": "2023-12-29T06:53:12.242806Z"
    }
   },
   "outputs": [],
   "source": [
    "lemmatizer = WordNetLemmatizer()"
   ]
  },
  {
   "cell_type": "code",
   "execution_count": 58,
   "metadata": {
    "ExecuteTime": {
     "end_time": "2023-12-29T06:53:12.258844Z",
     "start_time": "2023-12-29T06:53:12.248789Z"
    }
   },
   "outputs": [],
   "source": [
    "def preprocess_text(text):\n",
    "    tokens = word_tokenize(text)\n",
    "    tokens = [lemmatizer.lemmatize(word.lower()) for word in tokens if word.isalpha() and word.lower() not in stop_words]\n",
    "    return tokens"
   ]
  },
  {
   "cell_type": "code",
   "execution_count": 81,
   "metadata": {
    "ExecuteTime": {
     "end_time": "2023-12-29T08:00:08.852839Z",
     "start_time": "2023-12-29T08:00:08.849903Z"
    }
   },
   "outputs": [],
   "source": [
    "# def preprocess_text(text):\n",
    "#     # Handle contractions\n",
    "#     text = fix(text)\n",
    "\n",
    "#     # Tokenize the text using spaCy\n",
    "#     doc = nlp(text)\n",
    "    \n",
    "#     # Lemmatize, lowercase, and remove stopwords\n",
    "#     tokens = [token.lemma_.lower() for token in doc if token.is_alpha and token.lemma_.lower() not in stop_words]\n",
    "\n",
    "#     # Spell checking\n",
    "#     tokens = [spell.correction(word) for word in tokens]"
   ]
  },
  {
   "cell_type": "code",
   "execution_count": 59,
   "metadata": {
    "ExecuteTime": {
     "end_time": "2023-12-29T06:57:50.123643Z",
     "start_time": "2023-12-29T06:53:12.260839Z"
    },
    "scrolled": true
   },
   "outputs": [
    {
     "data": {
      "text/html": [
       "<div>\n",
       "<style scoped>\n",
       "    .dataframe tbody tr th:only-of-type {\n",
       "        vertical-align: middle;\n",
       "    }\n",
       "\n",
       "    .dataframe tbody tr th {\n",
       "        vertical-align: top;\n",
       "    }\n",
       "\n",
       "    .dataframe thead th {\n",
       "        text-align: right;\n",
       "    }\n",
       "</style>\n",
       "<table border=\"1\" class=\"dataframe\">\n",
       "  <thead>\n",
       "    <tr style=\"text-align: right;\">\n",
       "      <th></th>\n",
       "      <th>tweet_id</th>\n",
       "      <th>text</th>\n",
       "      <th>crawl_date</th>\n",
       "      <th>hashtag</th>\n",
       "      <th>score</th>\n",
       "      <th>data_type</th>\n",
       "      <th>index</th>\n",
       "      <th>emotion</th>\n",
       "      <th>tokenized_text</th>\n",
       "    </tr>\n",
       "  </thead>\n",
       "  <tbody>\n",
       "    <tr>\n",
       "      <th>0</th>\n",
       "      <td>0x376b20</td>\n",
       "      <td>People who post \"add me on #Snapchat\" must be ...</td>\n",
       "      <td>2015-05-23 11:42:47</td>\n",
       "      <td>['Snapchat']</td>\n",
       "      <td>391</td>\n",
       "      <td>tweets</td>\n",
       "      <td>hashtag_tweets</td>\n",
       "      <td>anticipation</td>\n",
       "      <td>[people, post, add, snapchat, must, dehydrated...</td>\n",
       "    </tr>\n",
       "    <tr>\n",
       "      <th>1</th>\n",
       "      <td>0x2d5350</td>\n",
       "      <td>@brianklaas As we see, Trump is dangerous to #...</td>\n",
       "      <td>2016-01-28 04:52:09</td>\n",
       "      <td>['freepress', 'TrumpLegacy', 'CNN']</td>\n",
       "      <td>433</td>\n",
       "      <td>tweets</td>\n",
       "      <td>hashtag_tweets</td>\n",
       "      <td>sadness</td>\n",
       "      <td>[brianklaas, see, trump, dangerous, freepress,...</td>\n",
       "    </tr>\n",
       "    <tr>\n",
       "      <th>2</th>\n",
       "      <td>0x1cd5b0</td>\n",
       "      <td>Now ISSA is stalking Tasha 😂😂😂 &lt;LH&gt;</td>\n",
       "      <td>2016-01-24 23:53:05</td>\n",
       "      <td>NaN</td>\n",
       "      <td>376</td>\n",
       "      <td>tweets</td>\n",
       "      <td>hashtag_tweets</td>\n",
       "      <td>fear</td>\n",
       "      <td>[issa, stalking, tasha]</td>\n",
       "    </tr>\n",
       "    <tr>\n",
       "      <th>3</th>\n",
       "      <td>0x1d755c</td>\n",
       "      <td>@RISKshow @TheKevinAllison Thx for the BEST TI...</td>\n",
       "      <td>2015-06-11 04:44:05</td>\n",
       "      <td>['authentic', 'LaughOutLoud']</td>\n",
       "      <td>120</td>\n",
       "      <td>tweets</td>\n",
       "      <td>hashtag_tweets</td>\n",
       "      <td>joy</td>\n",
       "      <td>[riskshow, thekevinallison, thx, best, time, t...</td>\n",
       "    </tr>\n",
       "    <tr>\n",
       "      <th>4</th>\n",
       "      <td>0x2c91a8</td>\n",
       "      <td>Still waiting on those supplies Liscus. &lt;LH&gt;</td>\n",
       "      <td>2015-08-18 02:30:07</td>\n",
       "      <td>NaN</td>\n",
       "      <td>1021</td>\n",
       "      <td>tweets</td>\n",
       "      <td>hashtag_tweets</td>\n",
       "      <td>anticipation</td>\n",
       "      <td>[still, waiting, supply, liscus]</td>\n",
       "    </tr>\n",
       "  </tbody>\n",
       "</table>\n",
       "</div>"
      ],
      "text/plain": [
       "   tweet_id                                               text  \\\n",
       "0  0x376b20  People who post \"add me on #Snapchat\" must be ...   \n",
       "1  0x2d5350  @brianklaas As we see, Trump is dangerous to #...   \n",
       "2  0x1cd5b0                Now ISSA is stalking Tasha 😂😂😂 <LH>   \n",
       "3  0x1d755c  @RISKshow @TheKevinAllison Thx for the BEST TI...   \n",
       "4  0x2c91a8       Still waiting on those supplies Liscus. <LH>   \n",
       "\n",
       "            crawl_date                              hashtag  score data_type  \\\n",
       "0  2015-05-23 11:42:47                         ['Snapchat']    391    tweets   \n",
       "1  2016-01-28 04:52:09  ['freepress', 'TrumpLegacy', 'CNN']    433    tweets   \n",
       "2  2016-01-24 23:53:05                                  NaN    376    tweets   \n",
       "3  2015-06-11 04:44:05        ['authentic', 'LaughOutLoud']    120    tweets   \n",
       "4  2015-08-18 02:30:07                                  NaN   1021    tweets   \n",
       "\n",
       "            index       emotion  \\\n",
       "0  hashtag_tweets  anticipation   \n",
       "1  hashtag_tweets       sadness   \n",
       "2  hashtag_tweets          fear   \n",
       "3  hashtag_tweets           joy   \n",
       "4  hashtag_tweets  anticipation   \n",
       "\n",
       "                                      tokenized_text  \n",
       "0  [people, post, add, snapchat, must, dehydrated...  \n",
       "1  [brianklaas, see, trump, dangerous, freepress,...  \n",
       "2                            [issa, stalking, tasha]  \n",
       "3  [riskshow, thekevinallison, thx, best, time, t...  \n",
       "4                   [still, waiting, supply, liscus]  "
      ]
     },
     "execution_count": 59,
     "metadata": {},
     "output_type": "execute_result"
    }
   ],
   "source": [
    "train_df['tokenized_text'] = train_df['text'].apply(preprocess_text)\n",
    "train_df.head()"
   ]
  },
  {
   "cell_type": "markdown",
   "metadata": {},
   "source": [
    "#### Word2Vec"
   ]
  },
  {
   "cell_type": "markdown",
   "metadata": {},
   "source": [
    "Here I represent words as vectors in a continuous vector space using Word2Vec.<br>\n",
    "And by calculating the average of all word vectors in the sentence to represent the sentence data then train the model.<br>\n",
    "Parameter settings are listed below:<br>\n",
    "1. vector_size=150\n",
    "2. window=5\n",
    "3. min_count=2\n",
    "4. workers=4\n",
    "5. epochs=100\n",
    "<br>\n"
   ]
  },
  {
   "cell_type": "code",
   "execution_count": 60,
   "metadata": {
    "ExecuteTime": {
     "end_time": "2023-12-29T07:09:05.757179Z",
     "start_time": "2023-12-29T06:57:50.124639Z"
    }
   },
   "outputs": [],
   "source": [
    "model_w2v = Word2Vec(sentences=train_df['tokenized_text'], vector_size=150, window=5, min_count=2, workers=4, epochs=100)"
   ]
  },
  {
   "cell_type": "code",
   "execution_count": 61,
   "metadata": {
    "ExecuteTime": {
     "end_time": "2023-12-29T07:09:05.767574Z",
     "start_time": "2023-12-29T07:09:05.760168Z"
    }
   },
   "outputs": [],
   "source": [
    "# Feature extraction using Word2Vec\n",
    "def average_word_vectors(words, model, num_features):\n",
    "    feature_vector = np.zeros((num_features,), dtype=\"float64\")\n",
    "    num_words = 0\n",
    "    for word in words:\n",
    "        if word in model.wv:\n",
    "            num_words += 1\n",
    "            feature_vector = np.add(feature_vector, model.wv[word])\n",
    "    if num_words > 0:\n",
    "        feature_vector = np.divide(feature_vector, num_words)\n",
    "    return feature_vector"
   ]
  },
  {
   "cell_type": "code",
   "execution_count": 62,
   "metadata": {
    "ExecuteTime": {
     "end_time": "2023-12-29T07:09:49.638786Z",
     "start_time": "2023-12-29T07:09:05.769567Z"
    }
   },
   "outputs": [],
   "source": [
    "train_df['word2vec_features'] = train_df['tokenized_text'].apply(lambda x: average_word_vectors(x, model_w2v, 150))"
   ]
  },
  {
   "cell_type": "code",
   "execution_count": 63,
   "metadata": {
    "ExecuteTime": {
     "end_time": "2023-12-29T07:09:49.643562Z",
     "start_time": "2023-12-29T07:09:49.639974Z"
    }
   },
   "outputs": [],
   "source": [
    "label_encoder = LabelEncoder()"
   ]
  },
  {
   "cell_type": "code",
   "execution_count": 64,
   "metadata": {
    "ExecuteTime": {
     "end_time": "2023-12-29T07:09:49.898597Z",
     "start_time": "2023-12-29T07:09:49.653288Z"
    }
   },
   "outputs": [
    {
     "data": {
      "text/html": [
       "<div>\n",
       "<style scoped>\n",
       "    .dataframe tbody tr th:only-of-type {\n",
       "        vertical-align: middle;\n",
       "    }\n",
       "\n",
       "    .dataframe tbody tr th {\n",
       "        vertical-align: top;\n",
       "    }\n",
       "\n",
       "    .dataframe thead th {\n",
       "        text-align: right;\n",
       "    }\n",
       "</style>\n",
       "<table border=\"1\" class=\"dataframe\">\n",
       "  <thead>\n",
       "    <tr style=\"text-align: right;\">\n",
       "      <th></th>\n",
       "      <th>tweet_id</th>\n",
       "      <th>text</th>\n",
       "      <th>crawl_date</th>\n",
       "      <th>hashtag</th>\n",
       "      <th>score</th>\n",
       "      <th>data_type</th>\n",
       "      <th>index</th>\n",
       "      <th>emotion</th>\n",
       "      <th>tokenized_text</th>\n",
       "      <th>word2vec_features</th>\n",
       "      <th>emotion_encoded</th>\n",
       "    </tr>\n",
       "  </thead>\n",
       "  <tbody>\n",
       "    <tr>\n",
       "      <th>0</th>\n",
       "      <td>0x376b20</td>\n",
       "      <td>People who post \"add me on #Snapchat\" must be ...</td>\n",
       "      <td>2015-05-23 11:42:47</td>\n",
       "      <td>['Snapchat']</td>\n",
       "      <td>391</td>\n",
       "      <td>tweets</td>\n",
       "      <td>hashtag_tweets</td>\n",
       "      <td>anticipation</td>\n",
       "      <td>[people, post, add, snapchat, must, dehydrated...</td>\n",
       "      <td>[0.5139289209619164, -0.7515904204919934, 0.70...</td>\n",
       "      <td>1</td>\n",
       "    </tr>\n",
       "    <tr>\n",
       "      <th>1</th>\n",
       "      <td>0x2d5350</td>\n",
       "      <td>@brianklaas As we see, Trump is dangerous to #...</td>\n",
       "      <td>2016-01-28 04:52:09</td>\n",
       "      <td>['freepress', 'TrumpLegacy', 'CNN']</td>\n",
       "      <td>433</td>\n",
       "      <td>tweets</td>\n",
       "      <td>hashtag_tweets</td>\n",
       "      <td>sadness</td>\n",
       "      <td>[brianklaas, see, trump, dangerous, freepress,...</td>\n",
       "      <td>[-0.030289098620414734, -0.7453021738264296, 0...</td>\n",
       "      <td>5</td>\n",
       "    </tr>\n",
       "    <tr>\n",
       "      <th>2</th>\n",
       "      <td>0x1cd5b0</td>\n",
       "      <td>Now ISSA is stalking Tasha 😂😂😂 &lt;LH&gt;</td>\n",
       "      <td>2016-01-24 23:53:05</td>\n",
       "      <td>NaN</td>\n",
       "      <td>376</td>\n",
       "      <td>tweets</td>\n",
       "      <td>hashtag_tweets</td>\n",
       "      <td>fear</td>\n",
       "      <td>[issa, stalking, tasha]</td>\n",
       "      <td>[2.352804740269979, -0.35278983414173126, 0.38...</td>\n",
       "      <td>3</td>\n",
       "    </tr>\n",
       "    <tr>\n",
       "      <th>3</th>\n",
       "      <td>0x1d755c</td>\n",
       "      <td>@RISKshow @TheKevinAllison Thx for the BEST TI...</td>\n",
       "      <td>2015-06-11 04:44:05</td>\n",
       "      <td>['authentic', 'LaughOutLoud']</td>\n",
       "      <td>120</td>\n",
       "      <td>tweets</td>\n",
       "      <td>hashtag_tweets</td>\n",
       "      <td>joy</td>\n",
       "      <td>[riskshow, thekevinallison, thx, best, time, t...</td>\n",
       "      <td>[-0.03668497562069784, -0.027015848593278366, ...</td>\n",
       "      <td>4</td>\n",
       "    </tr>\n",
       "    <tr>\n",
       "      <th>4</th>\n",
       "      <td>0x2c91a8</td>\n",
       "      <td>Still waiting on those supplies Liscus. &lt;LH&gt;</td>\n",
       "      <td>2015-08-18 02:30:07</td>\n",
       "      <td>NaN</td>\n",
       "      <td>1021</td>\n",
       "      <td>tweets</td>\n",
       "      <td>hashtag_tweets</td>\n",
       "      <td>anticipation</td>\n",
       "      <td>[still, waiting, supply, liscus]</td>\n",
       "      <td>[-1.2336694796880086, 0.3577449123064677, 1.64...</td>\n",
       "      <td>1</td>\n",
       "    </tr>\n",
       "  </tbody>\n",
       "</table>\n",
       "</div>"
      ],
      "text/plain": [
       "   tweet_id                                               text  \\\n",
       "0  0x376b20  People who post \"add me on #Snapchat\" must be ...   \n",
       "1  0x2d5350  @brianklaas As we see, Trump is dangerous to #...   \n",
       "2  0x1cd5b0                Now ISSA is stalking Tasha 😂😂😂 <LH>   \n",
       "3  0x1d755c  @RISKshow @TheKevinAllison Thx for the BEST TI...   \n",
       "4  0x2c91a8       Still waiting on those supplies Liscus. <LH>   \n",
       "\n",
       "            crawl_date                              hashtag  score data_type  \\\n",
       "0  2015-05-23 11:42:47                         ['Snapchat']    391    tweets   \n",
       "1  2016-01-28 04:52:09  ['freepress', 'TrumpLegacy', 'CNN']    433    tweets   \n",
       "2  2016-01-24 23:53:05                                  NaN    376    tweets   \n",
       "3  2015-06-11 04:44:05        ['authentic', 'LaughOutLoud']    120    tweets   \n",
       "4  2015-08-18 02:30:07                                  NaN   1021    tweets   \n",
       "\n",
       "            index       emotion  \\\n",
       "0  hashtag_tweets  anticipation   \n",
       "1  hashtag_tweets       sadness   \n",
       "2  hashtag_tweets          fear   \n",
       "3  hashtag_tweets           joy   \n",
       "4  hashtag_tweets  anticipation   \n",
       "\n",
       "                                      tokenized_text  \\\n",
       "0  [people, post, add, snapchat, must, dehydrated...   \n",
       "1  [brianklaas, see, trump, dangerous, freepress,...   \n",
       "2                            [issa, stalking, tasha]   \n",
       "3  [riskshow, thekevinallison, thx, best, time, t...   \n",
       "4                   [still, waiting, supply, liscus]   \n",
       "\n",
       "                                   word2vec_features  emotion_encoded  \n",
       "0  [0.5139289209619164, -0.7515904204919934, 0.70...                1  \n",
       "1  [-0.030289098620414734, -0.7453021738264296, 0...                5  \n",
       "2  [2.352804740269979, -0.35278983414173126, 0.38...                3  \n",
       "3  [-0.03668497562069784, -0.027015848593278366, ...                4  \n",
       "4  [-1.2336694796880086, 0.3577449123064677, 1.64...                1  "
      ]
     },
     "execution_count": 64,
     "metadata": {},
     "output_type": "execute_result"
    }
   ],
   "source": [
    "train_df['emotion_encoded'] = label_encoder.fit_transform(train_df['emotion'])\n",
    "train_df.head()"
   ]
  },
  {
   "cell_type": "markdown",
   "metadata": {},
   "source": [
    "#### Modeling"
   ]
  },
  {
   "cell_type": "code",
   "execution_count": 65,
   "metadata": {
    "ExecuteTime": {
     "end_time": "2023-12-29T07:11:02.806962Z",
     "start_time": "2023-12-29T07:09:49.900590Z"
    }
   },
   "outputs": [],
   "source": [
    "X = pd.DataFrame(train_df['word2vec_features'].tolist())\n",
    "y = train_df['emotion_encoded']"
   ]
  },
  {
   "cell_type": "code",
   "execution_count": 66,
   "metadata": {
    "ExecuteTime": {
     "end_time": "2023-12-29T07:11:02.954909Z",
     "start_time": "2023-12-29T07:11:02.807961Z"
    }
   },
   "outputs": [
    {
     "data": {
      "text/html": [
       "<div>\n",
       "<style scoped>\n",
       "    .dataframe tbody tr th:only-of-type {\n",
       "        vertical-align: middle;\n",
       "    }\n",
       "\n",
       "    .dataframe tbody tr th {\n",
       "        vertical-align: top;\n",
       "    }\n",
       "\n",
       "    .dataframe thead th {\n",
       "        text-align: right;\n",
       "    }\n",
       "</style>\n",
       "<table border=\"1\" class=\"dataframe\">\n",
       "  <thead>\n",
       "    <tr style=\"text-align: right;\">\n",
       "      <th></th>\n",
       "      <th>0</th>\n",
       "      <th>1</th>\n",
       "      <th>2</th>\n",
       "      <th>3</th>\n",
       "      <th>4</th>\n",
       "      <th>5</th>\n",
       "      <th>6</th>\n",
       "      <th>7</th>\n",
       "      <th>8</th>\n",
       "      <th>9</th>\n",
       "      <th>...</th>\n",
       "      <th>140</th>\n",
       "      <th>141</th>\n",
       "      <th>142</th>\n",
       "      <th>143</th>\n",
       "      <th>144</th>\n",
       "      <th>145</th>\n",
       "      <th>146</th>\n",
       "      <th>147</th>\n",
       "      <th>148</th>\n",
       "      <th>149</th>\n",
       "    </tr>\n",
       "  </thead>\n",
       "  <tbody>\n",
       "    <tr>\n",
       "      <th>0</th>\n",
       "      <td>0.513929</td>\n",
       "      <td>-0.751590</td>\n",
       "      <td>0.707873</td>\n",
       "      <td>-0.585760</td>\n",
       "      <td>0.119458</td>\n",
       "      <td>0.552026</td>\n",
       "      <td>-0.722359</td>\n",
       "      <td>-1.148767</td>\n",
       "      <td>-0.199605</td>\n",
       "      <td>0.082951</td>\n",
       "      <td>...</td>\n",
       "      <td>1.072655</td>\n",
       "      <td>0.732591</td>\n",
       "      <td>0.395503</td>\n",
       "      <td>0.369883</td>\n",
       "      <td>0.371851</td>\n",
       "      <td>0.738396</td>\n",
       "      <td>0.494011</td>\n",
       "      <td>0.983886</td>\n",
       "      <td>0.839183</td>\n",
       "      <td>-0.631647</td>\n",
       "    </tr>\n",
       "    <tr>\n",
       "      <th>1</th>\n",
       "      <td>-0.030289</td>\n",
       "      <td>-0.745302</td>\n",
       "      <td>0.005679</td>\n",
       "      <td>-0.838883</td>\n",
       "      <td>0.797741</td>\n",
       "      <td>-1.594276</td>\n",
       "      <td>0.563459</td>\n",
       "      <td>-0.307129</td>\n",
       "      <td>0.424236</td>\n",
       "      <td>-0.538415</td>\n",
       "      <td>...</td>\n",
       "      <td>-0.428213</td>\n",
       "      <td>-0.596657</td>\n",
       "      <td>0.246759</td>\n",
       "      <td>-0.691101</td>\n",
       "      <td>-0.789313</td>\n",
       "      <td>0.444060</td>\n",
       "      <td>1.483365</td>\n",
       "      <td>0.251412</td>\n",
       "      <td>0.203246</td>\n",
       "      <td>0.248348</td>\n",
       "    </tr>\n",
       "    <tr>\n",
       "      <th>2</th>\n",
       "      <td>2.352805</td>\n",
       "      <td>-0.352790</td>\n",
       "      <td>0.383611</td>\n",
       "      <td>1.371018</td>\n",
       "      <td>0.507727</td>\n",
       "      <td>-0.873997</td>\n",
       "      <td>-1.875642</td>\n",
       "      <td>-1.452374</td>\n",
       "      <td>-0.014196</td>\n",
       "      <td>0.797525</td>\n",
       "      <td>...</td>\n",
       "      <td>2.226798</td>\n",
       "      <td>0.786106</td>\n",
       "      <td>0.209207</td>\n",
       "      <td>0.619430</td>\n",
       "      <td>0.033994</td>\n",
       "      <td>1.795338</td>\n",
       "      <td>-0.125839</td>\n",
       "      <td>0.887126</td>\n",
       "      <td>0.887187</td>\n",
       "      <td>1.990027</td>\n",
       "    </tr>\n",
       "    <tr>\n",
       "      <th>3</th>\n",
       "      <td>-0.036685</td>\n",
       "      <td>-0.027016</td>\n",
       "      <td>0.508451</td>\n",
       "      <td>-0.148469</td>\n",
       "      <td>-0.464538</td>\n",
       "      <td>0.443024</td>\n",
       "      <td>-0.197823</td>\n",
       "      <td>-0.857911</td>\n",
       "      <td>-0.363539</td>\n",
       "      <td>0.398215</td>\n",
       "      <td>...</td>\n",
       "      <td>0.645560</td>\n",
       "      <td>-0.088374</td>\n",
       "      <td>-0.469436</td>\n",
       "      <td>-0.375362</td>\n",
       "      <td>0.089303</td>\n",
       "      <td>0.549348</td>\n",
       "      <td>-0.728071</td>\n",
       "      <td>1.044041</td>\n",
       "      <td>-0.485567</td>\n",
       "      <td>-0.441915</td>\n",
       "    </tr>\n",
       "    <tr>\n",
       "      <th>4</th>\n",
       "      <td>-1.233669</td>\n",
       "      <td>0.357745</td>\n",
       "      <td>1.640725</td>\n",
       "      <td>0.416335</td>\n",
       "      <td>-0.063855</td>\n",
       "      <td>-0.317985</td>\n",
       "      <td>-0.461435</td>\n",
       "      <td>-1.152029</td>\n",
       "      <td>0.211542</td>\n",
       "      <td>1.052638</td>\n",
       "      <td>...</td>\n",
       "      <td>-0.568986</td>\n",
       "      <td>0.138005</td>\n",
       "      <td>-0.462915</td>\n",
       "      <td>0.390888</td>\n",
       "      <td>0.379116</td>\n",
       "      <td>1.953416</td>\n",
       "      <td>-0.913115</td>\n",
       "      <td>-0.343248</td>\n",
       "      <td>1.366226</td>\n",
       "      <td>1.599510</td>\n",
       "    </tr>\n",
       "    <tr>\n",
       "      <th>...</th>\n",
       "      <td>...</td>\n",
       "      <td>...</td>\n",
       "      <td>...</td>\n",
       "      <td>...</td>\n",
       "      <td>...</td>\n",
       "      <td>...</td>\n",
       "      <td>...</td>\n",
       "      <td>...</td>\n",
       "      <td>...</td>\n",
       "      <td>...</td>\n",
       "      <td>...</td>\n",
       "      <td>...</td>\n",
       "      <td>...</td>\n",
       "      <td>...</td>\n",
       "      <td>...</td>\n",
       "      <td>...</td>\n",
       "      <td>...</td>\n",
       "      <td>...</td>\n",
       "      <td>...</td>\n",
       "      <td>...</td>\n",
       "      <td>...</td>\n",
       "    </tr>\n",
       "    <tr>\n",
       "      <th>1455558</th>\n",
       "      <td>-0.815248</td>\n",
       "      <td>0.078524</td>\n",
       "      <td>0.367391</td>\n",
       "      <td>0.031876</td>\n",
       "      <td>-0.804513</td>\n",
       "      <td>0.396704</td>\n",
       "      <td>0.232663</td>\n",
       "      <td>-0.385034</td>\n",
       "      <td>0.442501</td>\n",
       "      <td>-0.165179</td>\n",
       "      <td>...</td>\n",
       "      <td>-0.028121</td>\n",
       "      <td>-0.638959</td>\n",
       "      <td>-0.404235</td>\n",
       "      <td>-0.327729</td>\n",
       "      <td>-0.201904</td>\n",
       "      <td>-0.029265</td>\n",
       "      <td>-1.125939</td>\n",
       "      <td>1.231591</td>\n",
       "      <td>0.556648</td>\n",
       "      <td>0.517796</td>\n",
       "    </tr>\n",
       "    <tr>\n",
       "      <th>1455559</th>\n",
       "      <td>-0.462098</td>\n",
       "      <td>-0.506970</td>\n",
       "      <td>1.676454</td>\n",
       "      <td>-0.768850</td>\n",
       "      <td>0.429112</td>\n",
       "      <td>0.420765</td>\n",
       "      <td>-0.493796</td>\n",
       "      <td>-0.552064</td>\n",
       "      <td>0.714578</td>\n",
       "      <td>-0.844603</td>\n",
       "      <td>...</td>\n",
       "      <td>-1.035675</td>\n",
       "      <td>-0.723928</td>\n",
       "      <td>-0.252935</td>\n",
       "      <td>0.125416</td>\n",
       "      <td>0.603243</td>\n",
       "      <td>1.356336</td>\n",
       "      <td>-0.822288</td>\n",
       "      <td>1.001534</td>\n",
       "      <td>0.288804</td>\n",
       "      <td>1.029387</td>\n",
       "    </tr>\n",
       "    <tr>\n",
       "      <th>1455560</th>\n",
       "      <td>-0.290689</td>\n",
       "      <td>-0.066089</td>\n",
       "      <td>1.479035</td>\n",
       "      <td>0.352846</td>\n",
       "      <td>-0.316191</td>\n",
       "      <td>0.311115</td>\n",
       "      <td>-0.644407</td>\n",
       "      <td>-0.567473</td>\n",
       "      <td>-0.099847</td>\n",
       "      <td>1.096386</td>\n",
       "      <td>...</td>\n",
       "      <td>-0.247959</td>\n",
       "      <td>0.343528</td>\n",
       "      <td>0.244026</td>\n",
       "      <td>-0.467935</td>\n",
       "      <td>-0.355774</td>\n",
       "      <td>0.961169</td>\n",
       "      <td>0.764443</td>\n",
       "      <td>-0.484526</td>\n",
       "      <td>0.260704</td>\n",
       "      <td>-1.022775</td>\n",
       "    </tr>\n",
       "    <tr>\n",
       "      <th>1455561</th>\n",
       "      <td>0.849442</td>\n",
       "      <td>-0.680814</td>\n",
       "      <td>0.612846</td>\n",
       "      <td>-0.127831</td>\n",
       "      <td>0.429974</td>\n",
       "      <td>-0.203521</td>\n",
       "      <td>0.582526</td>\n",
       "      <td>-0.652309</td>\n",
       "      <td>-0.107726</td>\n",
       "      <td>0.238946</td>\n",
       "      <td>...</td>\n",
       "      <td>-0.311793</td>\n",
       "      <td>0.692780</td>\n",
       "      <td>-0.761060</td>\n",
       "      <td>0.429211</td>\n",
       "      <td>0.369255</td>\n",
       "      <td>0.694639</td>\n",
       "      <td>-0.171425</td>\n",
       "      <td>1.039737</td>\n",
       "      <td>0.196866</td>\n",
       "      <td>0.299672</td>\n",
       "    </tr>\n",
       "    <tr>\n",
       "      <th>1455562</th>\n",
       "      <td>-0.402207</td>\n",
       "      <td>-0.728985</td>\n",
       "      <td>1.991957</td>\n",
       "      <td>0.299435</td>\n",
       "      <td>-0.758248</td>\n",
       "      <td>0.384390</td>\n",
       "      <td>-0.919622</td>\n",
       "      <td>-1.374274</td>\n",
       "      <td>0.122105</td>\n",
       "      <td>0.869646</td>\n",
       "      <td>...</td>\n",
       "      <td>0.915359</td>\n",
       "      <td>-0.227740</td>\n",
       "      <td>-0.168038</td>\n",
       "      <td>0.662689</td>\n",
       "      <td>0.702868</td>\n",
       "      <td>0.651313</td>\n",
       "      <td>-0.523862</td>\n",
       "      <td>-0.802846</td>\n",
       "      <td>0.447292</td>\n",
       "      <td>1.112750</td>\n",
       "    </tr>\n",
       "  </tbody>\n",
       "</table>\n",
       "<p>1455563 rows × 150 columns</p>\n",
       "</div>"
      ],
      "text/plain": [
       "              0         1         2         3         4         5         6    \\\n",
       "0        0.513929 -0.751590  0.707873 -0.585760  0.119458  0.552026 -0.722359   \n",
       "1       -0.030289 -0.745302  0.005679 -0.838883  0.797741 -1.594276  0.563459   \n",
       "2        2.352805 -0.352790  0.383611  1.371018  0.507727 -0.873997 -1.875642   \n",
       "3       -0.036685 -0.027016  0.508451 -0.148469 -0.464538  0.443024 -0.197823   \n",
       "4       -1.233669  0.357745  1.640725  0.416335 -0.063855 -0.317985 -0.461435   \n",
       "...           ...       ...       ...       ...       ...       ...       ...   \n",
       "1455558 -0.815248  0.078524  0.367391  0.031876 -0.804513  0.396704  0.232663   \n",
       "1455559 -0.462098 -0.506970  1.676454 -0.768850  0.429112  0.420765 -0.493796   \n",
       "1455560 -0.290689 -0.066089  1.479035  0.352846 -0.316191  0.311115 -0.644407   \n",
       "1455561  0.849442 -0.680814  0.612846 -0.127831  0.429974 -0.203521  0.582526   \n",
       "1455562 -0.402207 -0.728985  1.991957  0.299435 -0.758248  0.384390 -0.919622   \n",
       "\n",
       "              7         8         9    ...       140       141       142  \\\n",
       "0       -1.148767 -0.199605  0.082951  ...  1.072655  0.732591  0.395503   \n",
       "1       -0.307129  0.424236 -0.538415  ... -0.428213 -0.596657  0.246759   \n",
       "2       -1.452374 -0.014196  0.797525  ...  2.226798  0.786106  0.209207   \n",
       "3       -0.857911 -0.363539  0.398215  ...  0.645560 -0.088374 -0.469436   \n",
       "4       -1.152029  0.211542  1.052638  ... -0.568986  0.138005 -0.462915   \n",
       "...           ...       ...       ...  ...       ...       ...       ...   \n",
       "1455558 -0.385034  0.442501 -0.165179  ... -0.028121 -0.638959 -0.404235   \n",
       "1455559 -0.552064  0.714578 -0.844603  ... -1.035675 -0.723928 -0.252935   \n",
       "1455560 -0.567473 -0.099847  1.096386  ... -0.247959  0.343528  0.244026   \n",
       "1455561 -0.652309 -0.107726  0.238946  ... -0.311793  0.692780 -0.761060   \n",
       "1455562 -1.374274  0.122105  0.869646  ...  0.915359 -0.227740 -0.168038   \n",
       "\n",
       "              143       144       145       146       147       148       149  \n",
       "0        0.369883  0.371851  0.738396  0.494011  0.983886  0.839183 -0.631647  \n",
       "1       -0.691101 -0.789313  0.444060  1.483365  0.251412  0.203246  0.248348  \n",
       "2        0.619430  0.033994  1.795338 -0.125839  0.887126  0.887187  1.990027  \n",
       "3       -0.375362  0.089303  0.549348 -0.728071  1.044041 -0.485567 -0.441915  \n",
       "4        0.390888  0.379116  1.953416 -0.913115 -0.343248  1.366226  1.599510  \n",
       "...           ...       ...       ...       ...       ...       ...       ...  \n",
       "1455558 -0.327729 -0.201904 -0.029265 -1.125939  1.231591  0.556648  0.517796  \n",
       "1455559  0.125416  0.603243  1.356336 -0.822288  1.001534  0.288804  1.029387  \n",
       "1455560 -0.467935 -0.355774  0.961169  0.764443 -0.484526  0.260704 -1.022775  \n",
       "1455561  0.429211  0.369255  0.694639 -0.171425  1.039737  0.196866  0.299672  \n",
       "1455562  0.662689  0.702868  0.651313 -0.523862 -0.802846  0.447292  1.112750  \n",
       "\n",
       "[1455563 rows x 150 columns]"
      ]
     },
     "execution_count": 66,
     "metadata": {},
     "output_type": "execute_result"
    }
   ],
   "source": [
    "X"
   ]
  },
  {
   "cell_type": "code",
   "execution_count": 67,
   "metadata": {
    "ExecuteTime": {
     "end_time": "2023-12-29T07:11:06.624429Z",
     "start_time": "2023-12-29T07:11:02.956900Z"
    }
   },
   "outputs": [],
   "source": [
    "# Split data into training and testing sets\n",
    "X_train, X_test, y_train, y_test = train_test_split(X, y, test_size=0.2, random_state=42)"
   ]
  },
  {
   "cell_type": "markdown",
   "metadata": {},
   "source": [
    "<b> I also tried CatBoost but the result is worse than XGBoost </b><br>\n",
    "so I choose XGBoost at the end."
   ]
  },
  {
   "cell_type": "code",
   "execution_count": 68,
   "metadata": {
    "ExecuteTime": {
     "end_time": "2023-12-29T07:15:31.305153Z",
     "start_time": "2023-12-29T07:11:06.626424Z"
    }
   },
   "outputs": [
    {
     "data": {
      "text/html": [
       "<style>#sk-container-id-1 {color: black;background-color: white;}#sk-container-id-1 pre{padding: 0;}#sk-container-id-1 div.sk-toggleable {background-color: white;}#sk-container-id-1 label.sk-toggleable__label {cursor: pointer;display: block;width: 100%;margin-bottom: 0;padding: 0.3em;box-sizing: border-box;text-align: center;}#sk-container-id-1 label.sk-toggleable__label-arrow:before {content: \"▸\";float: left;margin-right: 0.25em;color: #696969;}#sk-container-id-1 label.sk-toggleable__label-arrow:hover:before {color: black;}#sk-container-id-1 div.sk-estimator:hover label.sk-toggleable__label-arrow:before {color: black;}#sk-container-id-1 div.sk-toggleable__content {max-height: 0;max-width: 0;overflow: hidden;text-align: left;background-color: #f0f8ff;}#sk-container-id-1 div.sk-toggleable__content pre {margin: 0.2em;color: black;border-radius: 0.25em;background-color: #f0f8ff;}#sk-container-id-1 input.sk-toggleable__control:checked~div.sk-toggleable__content {max-height: 200px;max-width: 100%;overflow: auto;}#sk-container-id-1 input.sk-toggleable__control:checked~label.sk-toggleable__label-arrow:before {content: \"▾\";}#sk-container-id-1 div.sk-estimator input.sk-toggleable__control:checked~label.sk-toggleable__label {background-color: #d4ebff;}#sk-container-id-1 div.sk-label input.sk-toggleable__control:checked~label.sk-toggleable__label {background-color: #d4ebff;}#sk-container-id-1 input.sk-hidden--visually {border: 0;clip: rect(1px 1px 1px 1px);clip: rect(1px, 1px, 1px, 1px);height: 1px;margin: -1px;overflow: hidden;padding: 0;position: absolute;width: 1px;}#sk-container-id-1 div.sk-estimator {font-family: monospace;background-color: #f0f8ff;border: 1px dotted black;border-radius: 0.25em;box-sizing: border-box;margin-bottom: 0.5em;}#sk-container-id-1 div.sk-estimator:hover {background-color: #d4ebff;}#sk-container-id-1 div.sk-parallel-item::after {content: \"\";width: 100%;border-bottom: 1px solid gray;flex-grow: 1;}#sk-container-id-1 div.sk-label:hover label.sk-toggleable__label {background-color: #d4ebff;}#sk-container-id-1 div.sk-serial::before {content: \"\";position: absolute;border-left: 1px solid gray;box-sizing: border-box;top: 0;bottom: 0;left: 50%;z-index: 0;}#sk-container-id-1 div.sk-serial {display: flex;flex-direction: column;align-items: center;background-color: white;padding-right: 0.2em;padding-left: 0.2em;position: relative;}#sk-container-id-1 div.sk-item {position: relative;z-index: 1;}#sk-container-id-1 div.sk-parallel {display: flex;align-items: stretch;justify-content: center;background-color: white;position: relative;}#sk-container-id-1 div.sk-item::before, #sk-container-id-1 div.sk-parallel-item::before {content: \"\";position: absolute;border-left: 1px solid gray;box-sizing: border-box;top: 0;bottom: 0;left: 50%;z-index: -1;}#sk-container-id-1 div.sk-parallel-item {display: flex;flex-direction: column;z-index: 1;position: relative;background-color: white;}#sk-container-id-1 div.sk-parallel-item:first-child::after {align-self: flex-end;width: 50%;}#sk-container-id-1 div.sk-parallel-item:last-child::after {align-self: flex-start;width: 50%;}#sk-container-id-1 div.sk-parallel-item:only-child::after {width: 0;}#sk-container-id-1 div.sk-dashed-wrapped {border: 1px dashed gray;margin: 0 0.4em 0.5em 0.4em;box-sizing: border-box;padding-bottom: 0.4em;background-color: white;}#sk-container-id-1 div.sk-label label {font-family: monospace;font-weight: bold;display: inline-block;line-height: 1.2em;}#sk-container-id-1 div.sk-label-container {text-align: center;}#sk-container-id-1 div.sk-container {/* jupyter's `normalize.less` sets `[hidden] { display: none; }` but bootstrap.min.css set `[hidden] { display: none !important; }` so we also need the `!important` here to be able to override the default hidden behavior on the sphinx rendered scikit-learn.org. See: https://github.com/scikit-learn/scikit-learn/issues/21755 */display: inline-block !important;position: relative;}#sk-container-id-1 div.sk-text-repr-fallback {display: none;}</style><div id=\"sk-container-id-1\" class=\"sk-top-container\"><div class=\"sk-text-repr-fallback\"><pre>XGBClassifier(base_score=None, booster=None, callbacks=None,\n",
       "              colsample_bylevel=None, colsample_bynode=None,\n",
       "              colsample_bytree=None, device=None, early_stopping_rounds=None,\n",
       "              enable_categorical=False, eval_metric=None, feature_types=None,\n",
       "              gamma=None, grow_policy=None, importance_type=None,\n",
       "              interaction_constraints=None, learning_rate=None, max_bin=None,\n",
       "              max_cat_threshold=None, max_cat_to_onehot=None,\n",
       "              max_delta_step=None, max_depth=None, max_leaves=None,\n",
       "              min_child_weight=None, missing=nan, monotone_constraints=None,\n",
       "              multi_strategy=None, n_estimators=None, n_jobs=None,\n",
       "              num_parallel_tree=None, objective=&#x27;multi:softprob&#x27;, ...)</pre><b>In a Jupyter environment, please rerun this cell to show the HTML representation or trust the notebook. <br />On GitHub, the HTML representation is unable to render, please try loading this page with nbviewer.org.</b></div><div class=\"sk-container\" hidden><div class=\"sk-item\"><div class=\"sk-estimator sk-toggleable\"><input class=\"sk-toggleable__control sk-hidden--visually\" id=\"sk-estimator-id-1\" type=\"checkbox\" checked><label for=\"sk-estimator-id-1\" class=\"sk-toggleable__label sk-toggleable__label-arrow\">XGBClassifier</label><div class=\"sk-toggleable__content\"><pre>XGBClassifier(base_score=None, booster=None, callbacks=None,\n",
       "              colsample_bylevel=None, colsample_bynode=None,\n",
       "              colsample_bytree=None, device=None, early_stopping_rounds=None,\n",
       "              enable_categorical=False, eval_metric=None, feature_types=None,\n",
       "              gamma=None, grow_policy=None, importance_type=None,\n",
       "              interaction_constraints=None, learning_rate=None, max_bin=None,\n",
       "              max_cat_threshold=None, max_cat_to_onehot=None,\n",
       "              max_delta_step=None, max_depth=None, max_leaves=None,\n",
       "              min_child_weight=None, missing=nan, monotone_constraints=None,\n",
       "              multi_strategy=None, n_estimators=None, n_jobs=None,\n",
       "              num_parallel_tree=None, objective=&#x27;multi:softprob&#x27;, ...)</pre></div></div></div></div></div>"
      ],
      "text/plain": [
       "XGBClassifier(base_score=None, booster=None, callbacks=None,\n",
       "              colsample_bylevel=None, colsample_bynode=None,\n",
       "              colsample_bytree=None, device=None, early_stopping_rounds=None,\n",
       "              enable_categorical=False, eval_metric=None, feature_types=None,\n",
       "              gamma=None, grow_policy=None, importance_type=None,\n",
       "              interaction_constraints=None, learning_rate=None, max_bin=None,\n",
       "              max_cat_threshold=None, max_cat_to_onehot=None,\n",
       "              max_delta_step=None, max_depth=None, max_leaves=None,\n",
       "              min_child_weight=None, missing=nan, monotone_constraints=None,\n",
       "              multi_strategy=None, n_estimators=None, n_jobs=None,\n",
       "              num_parallel_tree=None, objective='multi:softprob', ...)"
      ]
     },
     "execution_count": 68,
     "metadata": {},
     "output_type": "execute_result"
    }
   ],
   "source": [
    "# Train XGBoost classifier\n",
    "model_xgb = XGBClassifier()\n",
    "model_xgb.fit(X_train, y_train)"
   ]
  },
  {
   "cell_type": "code",
   "execution_count": 69,
   "metadata": {
    "ExecuteTime": {
     "end_time": "2023-12-29T07:15:32.527428Z",
     "start_time": "2023-12-29T07:15:31.307145Z"
    }
   },
   "outputs": [
    {
     "name": "stdout",
     "output_type": "stream",
     "text": [
      "Accuracy: 0.5141336869188253\n"
     ]
    }
   ],
   "source": [
    "# Make predictions on the test set\n",
    "y_pred = model_xgb.predict(X_test)\n",
    "\n",
    "# Evaluate the model\n",
    "accuracy = accuracy_score(y_test, y_pred)\n",
    "print(f\"Accuracy: {accuracy}\")"
   ]
  },
  {
   "cell_type": "code",
   "execution_count": 70,
   "metadata": {
    "ExecuteTime": {
     "end_time": "2023-12-29T07:15:32.587673Z",
     "start_time": "2023-12-29T07:15:32.529423Z"
    }
   },
   "outputs": [
    {
     "data": {
      "text/plain": [
       "array([[ 1081,   494,  1388,    74,  3076,  1691,    11,   131],\n",
       "       [   76, 25440,  1712,   328, 18480,  2408,    39,  1501],\n",
       "       [  227,  1212, 10274,   324,  8915,  6121,    60,   536],\n",
       "       [   26,  1074,   806,  3906,  5533,  1226,    25,   250],\n",
       "       [  107,  7829,  2989,   575, 83149,  4357,    86,  3851],\n",
       "       [  244,  1981,  5625,   329, 13898, 15891,    79,   698],\n",
       "       [   27,   623,  1257,   152,  4650,  1706,  1192,   209],\n",
       "       [   38,  4649,  1483,   205, 24102,  1918,    31,  8738]],\n",
       "      dtype=int64)"
      ]
     },
     "execution_count": 70,
     "metadata": {},
     "output_type": "execute_result"
    }
   ],
   "source": [
    "cm = confusion_matrix(y_test, y_pred)\n",
    "cm"
   ]
  },
  {
   "cell_type": "code",
   "execution_count": 71,
   "metadata": {
    "ExecuteTime": {
     "end_time": "2023-12-29T07:15:32.761549Z",
     "start_time": "2023-12-29T07:15:32.588670Z"
    }
   },
   "outputs": [
    {
     "name": "stdout",
     "output_type": "stream",
     "text": [
      "Macro-Average F1 Score: 0.39293192522660114\n",
      "Micro-Average F1 Score: 0.5141336869188253\n"
     ]
    }
   ],
   "source": [
    "# Calculate macro-average F1 score\n",
    "macro_f1 = f1_score(y_test, y_pred, average='macro')\n",
    "print(f\"Macro-Average F1 Score: {macro_f1}\")\n",
    "\n",
    "# Calculate micro-average F1 score\n",
    "micro_f1 = f1_score(y_test, y_pred, average='micro')\n",
    "print(f\"Micro-Average F1 Score: {micro_f1}\")"
   ]
  },
  {
   "cell_type": "markdown",
   "metadata": {},
   "source": [
    "#### Prediction"
   ]
  },
  {
   "cell_type": "code",
   "execution_count": 72,
   "metadata": {
    "ExecuteTime": {
     "end_time": "2023-12-29T07:15:33.123968Z",
     "start_time": "2023-12-29T07:15:32.762562Z"
    }
   },
   "outputs": [
    {
     "data": {
      "text/html": [
       "<div>\n",
       "<style scoped>\n",
       "    .dataframe tbody tr th:only-of-type {\n",
       "        vertical-align: middle;\n",
       "    }\n",
       "\n",
       "    .dataframe tbody tr th {\n",
       "        vertical-align: top;\n",
       "    }\n",
       "\n",
       "    .dataframe thead th {\n",
       "        text-align: right;\n",
       "    }\n",
       "</style>\n",
       "<table border=\"1\" class=\"dataframe\">\n",
       "  <thead>\n",
       "    <tr style=\"text-align: right;\">\n",
       "      <th></th>\n",
       "      <th>tweet_id</th>\n",
       "      <th>text</th>\n",
       "      <th>crawl_date</th>\n",
       "      <th>hashtag</th>\n",
       "      <th>score</th>\n",
       "      <th>data_type</th>\n",
       "      <th>index</th>\n",
       "    </tr>\n",
       "  </thead>\n",
       "  <tbody>\n",
       "    <tr>\n",
       "      <th>2</th>\n",
       "      <td>0x28b412</td>\n",
       "      <td>Confident of your obedience, I write to you, k...</td>\n",
       "      <td>2017-12-25 04:39:20</td>\n",
       "      <td>['bibleverse']</td>\n",
       "      <td>232</td>\n",
       "      <td>tweets</td>\n",
       "      <td>hashtag_tweets</td>\n",
       "    </tr>\n",
       "    <tr>\n",
       "      <th>4</th>\n",
       "      <td>0x2de201</td>\n",
       "      <td>\"Trust is not the same as faith. A friend is s...</td>\n",
       "      <td>2016-01-08 17:18:59</td>\n",
       "      <td>NaN</td>\n",
       "      <td>989</td>\n",
       "      <td>tweets</td>\n",
       "      <td>hashtag_tweets</td>\n",
       "    </tr>\n",
       "    <tr>\n",
       "      <th>9</th>\n",
       "      <td>0x218443</td>\n",
       "      <td>When do you have enough ? When are you satisfi...</td>\n",
       "      <td>2015-09-09 09:22:55</td>\n",
       "      <td>['materialism', 'money', 'possessions']</td>\n",
       "      <td>66</td>\n",
       "      <td>tweets</td>\n",
       "      <td>hashtag_tweets</td>\n",
       "    </tr>\n",
       "    <tr>\n",
       "      <th>30</th>\n",
       "      <td>0x2939d5</td>\n",
       "      <td>God woke you up, now chase the day #GodsPlan #...</td>\n",
       "      <td>2015-10-10 14:33:26</td>\n",
       "      <td>['GodsPlan', 'GodsWork']</td>\n",
       "      <td>104</td>\n",
       "      <td>tweets</td>\n",
       "      <td>hashtag_tweets</td>\n",
       "    </tr>\n",
       "    <tr>\n",
       "      <th>33</th>\n",
       "      <td>0x26289a</td>\n",
       "      <td>In these tough times, who do YOU turn to as yo...</td>\n",
       "      <td>2016-10-23 08:49:50</td>\n",
       "      <td>NaN</td>\n",
       "      <td>310</td>\n",
       "      <td>tweets</td>\n",
       "      <td>hashtag_tweets</td>\n",
       "    </tr>\n",
       "    <tr>\n",
       "      <th>...</th>\n",
       "      <td>...</td>\n",
       "      <td>...</td>\n",
       "      <td>...</td>\n",
       "      <td>...</td>\n",
       "      <td>...</td>\n",
       "      <td>...</td>\n",
       "      <td>...</td>\n",
       "    </tr>\n",
       "    <tr>\n",
       "      <th>1867525</th>\n",
       "      <td>0x2913b4</td>\n",
       "      <td>\"For this is the message that ye heard from th...</td>\n",
       "      <td>2016-12-10 18:01:00</td>\n",
       "      <td>NaN</td>\n",
       "      <td>602</td>\n",
       "      <td>tweets</td>\n",
       "      <td>hashtag_tweets</td>\n",
       "    </tr>\n",
       "    <tr>\n",
       "      <th>1867529</th>\n",
       "      <td>0x2a980e</td>\n",
       "      <td>\"There is a lad here, which hath five barley l...</td>\n",
       "      <td>2015-01-04 14:40:55</td>\n",
       "      <td>NaN</td>\n",
       "      <td>598</td>\n",
       "      <td>tweets</td>\n",
       "      <td>hashtag_tweets</td>\n",
       "    </tr>\n",
       "    <tr>\n",
       "      <th>1867530</th>\n",
       "      <td>0x316b80</td>\n",
       "      <td>When you buy the last 2 tickets remaining for ...</td>\n",
       "      <td>2015-05-12 12:51:52</td>\n",
       "      <td>['mixedfeeling', 'butimTHATperson']</td>\n",
       "      <td>827</td>\n",
       "      <td>tweets</td>\n",
       "      <td>hashtag_tweets</td>\n",
       "    </tr>\n",
       "    <tr>\n",
       "      <th>1867531</th>\n",
       "      <td>0x29d0cb</td>\n",
       "      <td>I swear all this hard work gone pay off one da...</td>\n",
       "      <td>2017-10-02 17:54:04</td>\n",
       "      <td>NaN</td>\n",
       "      <td>368</td>\n",
       "      <td>tweets</td>\n",
       "      <td>hashtag_tweets</td>\n",
       "    </tr>\n",
       "    <tr>\n",
       "      <th>1867532</th>\n",
       "      <td>0x2a6a4f</td>\n",
       "      <td>@Parcel2Go no card left when I wasn't in so I ...</td>\n",
       "      <td>2016-10-10 11:04:32</td>\n",
       "      <td>NaN</td>\n",
       "      <td>498</td>\n",
       "      <td>tweets</td>\n",
       "      <td>hashtag_tweets</td>\n",
       "    </tr>\n",
       "  </tbody>\n",
       "</table>\n",
       "<p>411972 rows × 7 columns</p>\n",
       "</div>"
      ],
      "text/plain": [
       "         tweet_id                                               text  \\\n",
       "2        0x28b412  Confident of your obedience, I write to you, k...   \n",
       "4        0x2de201  \"Trust is not the same as faith. A friend is s...   \n",
       "9        0x218443  When do you have enough ? When are you satisfi...   \n",
       "30       0x2939d5  God woke you up, now chase the day #GodsPlan #...   \n",
       "33       0x26289a  In these tough times, who do YOU turn to as yo...   \n",
       "...           ...                                                ...   \n",
       "1867525  0x2913b4  \"For this is the message that ye heard from th...   \n",
       "1867529  0x2a980e  \"There is a lad here, which hath five barley l...   \n",
       "1867530  0x316b80  When you buy the last 2 tickets remaining for ...   \n",
       "1867531  0x29d0cb  I swear all this hard work gone pay off one da...   \n",
       "1867532  0x2a6a4f  @Parcel2Go no card left when I wasn't in so I ...   \n",
       "\n",
       "                  crawl_date                                  hashtag  score  \\\n",
       "2        2017-12-25 04:39:20                           ['bibleverse']    232   \n",
       "4        2016-01-08 17:18:59                                      NaN    989   \n",
       "9        2015-09-09 09:22:55  ['materialism', 'money', 'possessions']     66   \n",
       "30       2015-10-10 14:33:26                 ['GodsPlan', 'GodsWork']    104   \n",
       "33       2016-10-23 08:49:50                                      NaN    310   \n",
       "...                      ...                                      ...    ...   \n",
       "1867525  2016-12-10 18:01:00                                      NaN    602   \n",
       "1867529  2015-01-04 14:40:55                                      NaN    598   \n",
       "1867530  2015-05-12 12:51:52      ['mixedfeeling', 'butimTHATperson']    827   \n",
       "1867531  2017-10-02 17:54:04                                      NaN    368   \n",
       "1867532  2016-10-10 11:04:32                                      NaN    498   \n",
       "\n",
       "        data_type           index  \n",
       "2          tweets  hashtag_tweets  \n",
       "4          tweets  hashtag_tweets  \n",
       "9          tweets  hashtag_tweets  \n",
       "30         tweets  hashtag_tweets  \n",
       "33         tweets  hashtag_tweets  \n",
       "...           ...             ...  \n",
       "1867525    tweets  hashtag_tweets  \n",
       "1867529    tweets  hashtag_tweets  \n",
       "1867530    tweets  hashtag_tweets  \n",
       "1867531    tweets  hashtag_tweets  \n",
       "1867532    tweets  hashtag_tweets  \n",
       "\n",
       "[411972 rows x 7 columns]"
      ]
     },
     "execution_count": 72,
     "metadata": {},
     "output_type": "execute_result"
    }
   ],
   "source": [
    "test_df = DATA[DATA['identification'] == 'test']\n",
    "test_df.drop('identification', axis=1, inplace=True)\n",
    "test_df"
   ]
  },
  {
   "cell_type": "code",
   "execution_count": 73,
   "metadata": {
    "ExecuteTime": {
     "end_time": "2023-12-29T07:17:18.990161Z",
     "start_time": "2023-12-29T07:15:33.124964Z"
    }
   },
   "outputs": [
    {
     "data": {
      "text/html": [
       "<div>\n",
       "<style scoped>\n",
       "    .dataframe tbody tr th:only-of-type {\n",
       "        vertical-align: middle;\n",
       "    }\n",
       "\n",
       "    .dataframe tbody tr th {\n",
       "        vertical-align: top;\n",
       "    }\n",
       "\n",
       "    .dataframe thead th {\n",
       "        text-align: right;\n",
       "    }\n",
       "</style>\n",
       "<table border=\"1\" class=\"dataframe\">\n",
       "  <thead>\n",
       "    <tr style=\"text-align: right;\">\n",
       "      <th></th>\n",
       "      <th>tweet_id</th>\n",
       "      <th>text</th>\n",
       "      <th>crawl_date</th>\n",
       "      <th>hashtag</th>\n",
       "      <th>score</th>\n",
       "      <th>data_type</th>\n",
       "      <th>index</th>\n",
       "      <th>tokenized_text</th>\n",
       "      <th>word2vec_features</th>\n",
       "    </tr>\n",
       "  </thead>\n",
       "  <tbody>\n",
       "    <tr>\n",
       "      <th>2</th>\n",
       "      <td>0x28b412</td>\n",
       "      <td>Confident of your obedience, I write to you, k...</td>\n",
       "      <td>2017-12-25 04:39:20</td>\n",
       "      <td>['bibleverse']</td>\n",
       "      <td>232</td>\n",
       "      <td>tweets</td>\n",
       "      <td>hashtag_tweets</td>\n",
       "      <td>[confident, obedience, write, knowing, even, a...</td>\n",
       "      <td>[0.34310251055285335, -0.2832018993794918, 1.3...</td>\n",
       "    </tr>\n",
       "    <tr>\n",
       "      <th>4</th>\n",
       "      <td>0x2de201</td>\n",
       "      <td>\"Trust is not the same as faith. A friend is s...</td>\n",
       "      <td>2016-01-08 17:18:59</td>\n",
       "      <td>NaN</td>\n",
       "      <td>989</td>\n",
       "      <td>tweets</td>\n",
       "      <td>hashtag_tweets</td>\n",
       "      <td>[trust, faith, friend, someone, trust, putting...</td>\n",
       "      <td>[-0.10121690481901169, -0.6859878387132828, 0....</td>\n",
       "    </tr>\n",
       "    <tr>\n",
       "      <th>9</th>\n",
       "      <td>0x218443</td>\n",
       "      <td>When do you have enough ? When are you satisfi...</td>\n",
       "      <td>2015-09-09 09:22:55</td>\n",
       "      <td>['materialism', 'money', 'possessions']</td>\n",
       "      <td>66</td>\n",
       "      <td>tweets</td>\n",
       "      <td>hashtag_tweets</td>\n",
       "      <td>[enough, satisfied, goal, really, money, mater...</td>\n",
       "      <td>[0.39044864708557725, 0.1851278729736805, 0.62...</td>\n",
       "    </tr>\n",
       "    <tr>\n",
       "      <th>30</th>\n",
       "      <td>0x2939d5</td>\n",
       "      <td>God woke you up, now chase the day #GodsPlan #...</td>\n",
       "      <td>2015-10-10 14:33:26</td>\n",
       "      <td>['GodsPlan', 'GodsWork']</td>\n",
       "      <td>104</td>\n",
       "      <td>tweets</td>\n",
       "      <td>hashtag_tweets</td>\n",
       "      <td>[god, woke, chase, day, godsplan, godswork]</td>\n",
       "      <td>[0.12399929389357567, -0.6902452744543552, 1.7...</td>\n",
       "    </tr>\n",
       "    <tr>\n",
       "      <th>33</th>\n",
       "      <td>0x26289a</td>\n",
       "      <td>In these tough times, who do YOU turn to as yo...</td>\n",
       "      <td>2016-10-23 08:49:50</td>\n",
       "      <td>NaN</td>\n",
       "      <td>310</td>\n",
       "      <td>tweets</td>\n",
       "      <td>hashtag_tweets</td>\n",
       "      <td>[tough, time, turn, symbol, hope]</td>\n",
       "      <td>[0.09207731261849403, -0.3216698169708252, 1.8...</td>\n",
       "    </tr>\n",
       "  </tbody>\n",
       "</table>\n",
       "</div>"
      ],
      "text/plain": [
       "    tweet_id                                               text  \\\n",
       "2   0x28b412  Confident of your obedience, I write to you, k...   \n",
       "4   0x2de201  \"Trust is not the same as faith. A friend is s...   \n",
       "9   0x218443  When do you have enough ? When are you satisfi...   \n",
       "30  0x2939d5  God woke you up, now chase the day #GodsPlan #...   \n",
       "33  0x26289a  In these tough times, who do YOU turn to as yo...   \n",
       "\n",
       "             crawl_date                                  hashtag  score  \\\n",
       "2   2017-12-25 04:39:20                           ['bibleverse']    232   \n",
       "4   2016-01-08 17:18:59                                      NaN    989   \n",
       "9   2015-09-09 09:22:55  ['materialism', 'money', 'possessions']     66   \n",
       "30  2015-10-10 14:33:26                 ['GodsPlan', 'GodsWork']    104   \n",
       "33  2016-10-23 08:49:50                                      NaN    310   \n",
       "\n",
       "   data_type           index  \\\n",
       "2     tweets  hashtag_tweets   \n",
       "4     tweets  hashtag_tweets   \n",
       "9     tweets  hashtag_tweets   \n",
       "30    tweets  hashtag_tweets   \n",
       "33    tweets  hashtag_tweets   \n",
       "\n",
       "                                       tokenized_text  \\\n",
       "2   [confident, obedience, write, knowing, even, a...   \n",
       "4   [trust, faith, friend, someone, trust, putting...   \n",
       "9   [enough, satisfied, goal, really, money, mater...   \n",
       "30        [god, woke, chase, day, godsplan, godswork]   \n",
       "33                  [tough, time, turn, symbol, hope]   \n",
       "\n",
       "                                    word2vec_features  \n",
       "2   [0.34310251055285335, -0.2832018993794918, 1.3...  \n",
       "4   [-0.10121690481901169, -0.6859878387132828, 0....  \n",
       "9   [0.39044864708557725, 0.1851278729736805, 0.62...  \n",
       "30  [0.12399929389357567, -0.6902452744543552, 1.7...  \n",
       "33  [0.09207731261849403, -0.3216698169708252, 1.8...  "
      ]
     },
     "execution_count": 73,
     "metadata": {},
     "output_type": "execute_result"
    }
   ],
   "source": [
    "test_df['tokenized_text'] = test_df['text'].apply(preprocess_text)\n",
    "test_df['word2vec_features'] = test_df['tokenized_text'].apply(lambda x: average_word_vectors(x, model_w2v, 150))\n",
    "test_df.head()"
   ]
  },
  {
   "cell_type": "code",
   "execution_count": 74,
   "metadata": {
    "ExecuteTime": {
     "end_time": "2023-12-29T07:17:40.423630Z",
     "start_time": "2023-12-29T07:17:18.992156Z"
    }
   },
   "outputs": [],
   "source": [
    "X_test = pd.DataFrame(test_df['word2vec_features'].tolist())"
   ]
  },
  {
   "cell_type": "code",
   "execution_count": 75,
   "metadata": {
    "ExecuteTime": {
     "end_time": "2023-12-29T07:17:42.280674Z",
     "start_time": "2023-12-29T07:17:40.425623Z"
    }
   },
   "outputs": [],
   "source": [
    "y_pred_test = model_xgb.predict(X_test)"
   ]
  },
  {
   "cell_type": "code",
   "execution_count": 76,
   "metadata": {
    "ExecuteTime": {
     "end_time": "2023-12-29T07:17:42.305366Z",
     "start_time": "2023-12-29T07:17:42.282655Z"
    }
   },
   "outputs": [
    {
     "data": {
      "text/plain": [
       "411972"
      ]
     },
     "execution_count": 76,
     "metadata": {},
     "output_type": "execute_result"
    }
   ],
   "source": [
    "y_pred_test = label_encoder.inverse_transform(y_pred_test)\n",
    "len(y_pred_test)"
   ]
  },
  {
   "cell_type": "code",
   "execution_count": 77,
   "metadata": {
    "ExecuteTime": {
     "end_time": "2023-12-29T07:17:42.373117Z",
     "start_time": "2023-12-29T07:17:42.307357Z"
    }
   },
   "outputs": [
    {
     "data": {
      "text/html": [
       "<div>\n",
       "<style scoped>\n",
       "    .dataframe tbody tr th:only-of-type {\n",
       "        vertical-align: middle;\n",
       "    }\n",
       "\n",
       "    .dataframe tbody tr th {\n",
       "        vertical-align: top;\n",
       "    }\n",
       "\n",
       "    .dataframe thead th {\n",
       "        text-align: right;\n",
       "    }\n",
       "</style>\n",
       "<table border=\"1\" class=\"dataframe\">\n",
       "  <thead>\n",
       "    <tr style=\"text-align: right;\">\n",
       "      <th></th>\n",
       "      <th>tweet_id</th>\n",
       "      <th>emotion</th>\n",
       "    </tr>\n",
       "  </thead>\n",
       "  <tbody>\n",
       "    <tr>\n",
       "      <th>0</th>\n",
       "      <td>0x28b412</td>\n",
       "      <td>anticipation</td>\n",
       "    </tr>\n",
       "    <tr>\n",
       "      <th>1</th>\n",
       "      <td>0x2de201</td>\n",
       "      <td>anticipation</td>\n",
       "    </tr>\n",
       "    <tr>\n",
       "      <th>2</th>\n",
       "      <td>0x218443</td>\n",
       "      <td>joy</td>\n",
       "    </tr>\n",
       "    <tr>\n",
       "      <th>3</th>\n",
       "      <td>0x2939d5</td>\n",
       "      <td>joy</td>\n",
       "    </tr>\n",
       "    <tr>\n",
       "      <th>4</th>\n",
       "      <td>0x26289a</td>\n",
       "      <td>joy</td>\n",
       "    </tr>\n",
       "    <tr>\n",
       "      <th>...</th>\n",
       "      <td>...</td>\n",
       "      <td>...</td>\n",
       "    </tr>\n",
       "    <tr>\n",
       "      <th>411967</th>\n",
       "      <td>0x2913b4</td>\n",
       "      <td>anticipation</td>\n",
       "    </tr>\n",
       "    <tr>\n",
       "      <th>411968</th>\n",
       "      <td>0x2a980e</td>\n",
       "      <td>joy</td>\n",
       "    </tr>\n",
       "    <tr>\n",
       "      <th>411969</th>\n",
       "      <td>0x316b80</td>\n",
       "      <td>sadness</td>\n",
       "    </tr>\n",
       "    <tr>\n",
       "      <th>411970</th>\n",
       "      <td>0x29d0cb</td>\n",
       "      <td>joy</td>\n",
       "    </tr>\n",
       "    <tr>\n",
       "      <th>411971</th>\n",
       "      <td>0x2a6a4f</td>\n",
       "      <td>sadness</td>\n",
       "    </tr>\n",
       "  </tbody>\n",
       "</table>\n",
       "<p>411972 rows × 2 columns</p>\n",
       "</div>"
      ],
      "text/plain": [
       "        tweet_id       emotion\n",
       "0       0x28b412  anticipation\n",
       "1       0x2de201  anticipation\n",
       "2       0x218443           joy\n",
       "3       0x2939d5           joy\n",
       "4       0x26289a           joy\n",
       "...          ...           ...\n",
       "411967  0x2913b4  anticipation\n",
       "411968  0x2a980e           joy\n",
       "411969  0x316b80       sadness\n",
       "411970  0x29d0cb           joy\n",
       "411971  0x2a6a4f       sadness\n",
       "\n",
       "[411972 rows x 2 columns]"
      ]
     },
     "execution_count": 77,
     "metadata": {},
     "output_type": "execute_result"
    }
   ],
   "source": [
    "y_pred = pd.DataFrame(test_df['tweet_id'])\n",
    "y_pred['emotion'] = y_pred_test\n",
    "y_pred = y_pred.reset_index(drop=True)\n",
    "y_pred"
   ]
  },
  {
   "cell_type": "markdown",
   "metadata": {},
   "source": [
    "#### Output file"
   ]
  },
  {
   "cell_type": "code",
   "execution_count": 78,
   "metadata": {
    "ExecuteTime": {
     "end_time": "2023-12-29T07:17:42.604711Z",
     "start_time": "2023-12-29T07:17:42.375109Z"
    }
   },
   "outputs": [
    {
     "data": {
      "text/plain": [
       "0         0x2c7743\n",
       "1         0x2c1eed\n",
       "2         0x2826ea\n",
       "3         0x356d9a\n",
       "4         0x20fd95\n",
       "            ...   \n",
       "411967    0x351857\n",
       "411968    0x2c028e\n",
       "411969    0x1f2430\n",
       "411970    0x2be24e\n",
       "411971    0x35802a\n",
       "Name: id, Length: 411972, dtype: object"
      ]
     },
     "execution_count": 78,
     "metadata": {},
     "output_type": "execute_result"
    }
   ],
   "source": [
    "sample_submission = pd.read_csv(r'dm2023-isa5810-lab2-homework/sampleSubmission.csv')\n",
    "sample_submission['id']"
   ]
  },
  {
   "cell_type": "code",
   "execution_count": 79,
   "metadata": {
    "ExecuteTime": {
     "end_time": "2023-12-29T07:17:42.993611Z",
     "start_time": "2023-12-29T07:17:42.605706Z"
    }
   },
   "outputs": [
    {
     "data": {
      "text/html": [
       "<div>\n",
       "<style scoped>\n",
       "    .dataframe tbody tr th:only-of-type {\n",
       "        vertical-align: middle;\n",
       "    }\n",
       "\n",
       "    .dataframe tbody tr th {\n",
       "        vertical-align: top;\n",
       "    }\n",
       "\n",
       "    .dataframe thead th {\n",
       "        text-align: right;\n",
       "    }\n",
       "</style>\n",
       "<table border=\"1\" class=\"dataframe\">\n",
       "  <thead>\n",
       "    <tr style=\"text-align: right;\">\n",
       "      <th></th>\n",
       "      <th>id</th>\n",
       "      <th>emotion</th>\n",
       "    </tr>\n",
       "  </thead>\n",
       "  <tbody>\n",
       "    <tr>\n",
       "      <th>0</th>\n",
       "      <td>0x2c7743</td>\n",
       "      <td>joy</td>\n",
       "    </tr>\n",
       "    <tr>\n",
       "      <th>1</th>\n",
       "      <td>0x2c1eed</td>\n",
       "      <td>joy</td>\n",
       "    </tr>\n",
       "    <tr>\n",
       "      <th>2</th>\n",
       "      <td>0x2826ea</td>\n",
       "      <td>sadness</td>\n",
       "    </tr>\n",
       "    <tr>\n",
       "      <th>3</th>\n",
       "      <td>0x356d9a</td>\n",
       "      <td>joy</td>\n",
       "    </tr>\n",
       "    <tr>\n",
       "      <th>4</th>\n",
       "      <td>0x20fd95</td>\n",
       "      <td>joy</td>\n",
       "    </tr>\n",
       "    <tr>\n",
       "      <th>...</th>\n",
       "      <td>...</td>\n",
       "      <td>...</td>\n",
       "    </tr>\n",
       "    <tr>\n",
       "      <th>411967</th>\n",
       "      <td>0x351857</td>\n",
       "      <td>disgust</td>\n",
       "    </tr>\n",
       "    <tr>\n",
       "      <th>411968</th>\n",
       "      <td>0x2c028e</td>\n",
       "      <td>sadness</td>\n",
       "    </tr>\n",
       "    <tr>\n",
       "      <th>411969</th>\n",
       "      <td>0x1f2430</td>\n",
       "      <td>anticipation</td>\n",
       "    </tr>\n",
       "    <tr>\n",
       "      <th>411970</th>\n",
       "      <td>0x2be24e</td>\n",
       "      <td>trust</td>\n",
       "    </tr>\n",
       "    <tr>\n",
       "      <th>411971</th>\n",
       "      <td>0x35802a</td>\n",
       "      <td>joy</td>\n",
       "    </tr>\n",
       "  </tbody>\n",
       "</table>\n",
       "<p>411972 rows × 2 columns</p>\n",
       "</div>"
      ],
      "text/plain": [
       "              id       emotion\n",
       "0       0x2c7743           joy\n",
       "1       0x2c1eed           joy\n",
       "2       0x2826ea       sadness\n",
       "3       0x356d9a           joy\n",
       "4       0x20fd95           joy\n",
       "...          ...           ...\n",
       "411967  0x351857       disgust\n",
       "411968  0x2c028e       sadness\n",
       "411969  0x1f2430  anticipation\n",
       "411970  0x2be24e         trust\n",
       "411971  0x35802a           joy\n",
       "\n",
       "[411972 rows x 2 columns]"
      ]
     },
     "execution_count": 79,
     "metadata": {},
     "output_type": "execute_result"
    }
   ],
   "source": [
    "submission_df = pd.DataFrame(sample_submission['id']).merge(y_pred, left_on='id', right_on='tweet_id', how='left')\n",
    "submission_df.drop('tweet_id', axis=1, inplace=True)\n",
    "submission_df"
   ]
  },
  {
   "cell_type": "code",
   "execution_count": 80,
   "metadata": {
    "ExecuteTime": {
     "end_time": "2023-12-29T07:17:43.499524Z",
     "start_time": "2023-12-29T07:17:42.995606Z"
    }
   },
   "outputs": [],
   "source": [
    "submission_df.to_csv('submissions/word2vec_xgb_v2.csv', index=False)"
   ]
  }
 ],
 "metadata": {
  "kernelspec": {
   "display_name": "Python 3 (ipykernel)",
   "language": "python",
   "name": "python3"
  },
  "language_info": {
   "codemirror_mode": {
    "name": "ipython",
    "version": 3
   },
   "file_extension": ".py",
   "mimetype": "text/x-python",
   "name": "python",
   "nbconvert_exporter": "python",
   "pygments_lexer": "ipython3",
   "version": "3.11.4"
  },
  "toc": {
   "base_numbering": 1,
   "nav_menu": {},
   "number_sections": true,
   "sideBar": true,
   "skip_h1_title": false,
   "title_cell": "Table of Contents",
   "title_sidebar": "Contents",
   "toc_cell": false,
   "toc_position": {
    "height": "calc(100% - 180px)",
    "left": "10px",
    "top": "150px",
    "width": "328px"
   },
   "toc_section_display": true,
   "toc_window_display": true
  },
  "varInspector": {
   "cols": {
    "lenName": 16,
    "lenType": 16,
    "lenVar": 40
   },
   "kernels_config": {
    "python": {
     "delete_cmd_postfix": "",
     "delete_cmd_prefix": "del ",
     "library": "var_list.py",
     "varRefreshCmd": "print(var_dic_list())"
    },
    "r": {
     "delete_cmd_postfix": ") ",
     "delete_cmd_prefix": "rm(",
     "library": "var_list.r",
     "varRefreshCmd": "cat(var_dic_list()) "
    }
   },
   "types_to_exclude": [
    "module",
    "function",
    "builtin_function_or_method",
    "instance",
    "_Feature"
   ],
   "window_display": false
  }
 },
 "nbformat": 4,
 "nbformat_minor": 2
}
